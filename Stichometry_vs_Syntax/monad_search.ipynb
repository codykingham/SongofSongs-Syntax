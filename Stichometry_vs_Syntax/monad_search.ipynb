{
 "cells": [
  {
   "cell_type": "markdown",
   "metadata": {},
   "source": [
    "<p style=\"text-align:center;font-size:30px;font-weight:bold\">Clause Syntax in the Song of Songs:<br><br> A Preliminary Study</p>\n",
    "<br>\n",
    "<br>\n",
    "# Song of Songs Monad Search\n",
    "<strong>Purpose of this notebook:</strong>\n",
    "<br>\n",
    "This search takes data stored in csv files from monad_input.ipynb and compares the cola boundaries with syntactic boundaries stored in the ETCBC4b database. The syntactic structures that are found are written to another csv file with \".\" separated abbreviations. If no syntactic structures are found, the cola is stored as \"N\" (none). These cola are further examined in \"stichometry_analyses.ipynb\" to see what kind of syntactic structures are found in the \"None\" cola.\n",
    "<br>\n",
    "<br>\n",
    "The example provided here is from BHQ chapter 1. It takes in a file (BHQchapter_1.csv) and returns a file with the syntax data stored in it (BHQchapter_1_coded.csv). The example file has been kept in this directory for reference. But the other chapters are stored in the BHQ/ROB directories. These searches were written in the early stages of my work, so I did them chapter by chapter and copied them into a full csv file later. If I were to write this again, I would do all 8 chapters at once."
   ]
  },
  {
   "cell_type": "code",
   "execution_count": 1,
   "metadata": {
    "collapsed": false,
    "scrolled": false
   },
   "outputs": [
    {
     "name": "stderr",
     "output_type": "stream",
     "text": [
      "  0.00s This is LAF-Fabric 4.5.21\n",
      "API reference: http://laf-fabric.readthedocs.org/en/latest/texts/API-reference.html\n",
      "Feature doc: https://shebanq.ancient-data.org/static/docs/featuredoc/texts/welcome.html\n",
      "\n"
     ]
    }
   ],
   "source": [
    "import sys\n",
    "import collections \n",
    "import laf\n",
    "from laf.fabric import LafFabric\n",
    "from etcbc.preprocess import prepare\n",
    "\n",
    "fabric = LafFabric(verbose='NORMAL')"
   ]
  },
  {
   "cell_type": "code",
   "execution_count": 2,
   "metadata": {
    "collapsed": false,
    "scrolled": false
   },
   "outputs": [
    {
     "name": "stderr",
     "output_type": "stream",
     "text": [
      "  0.00s LOADING API: please wait ... \n",
      "  0.07s USING main  DATA COMPILED AT: 2015-11-02T15-08-56\n",
      "  6.84s LOGFILE=/Users/Cody/laf-fabric-output/etcbc4b/monad_search/__log__monad_search.txt\n",
      "  6.84s INFO: LOADING PREPARED data: please wait ... \n",
      "  6.84s prep prep: G.node_sort\n",
      "  7.23s prep prep: G.node_sort_inv\n",
      "  8.31s prep prep: L.node_up\n",
      "    13s prep prep: L.node_down\n",
      "    20s prep prep: V.verses\n",
      "    20s prep prep: V.books_la\n",
      "    20s ETCBC reference: http://laf-fabric.readthedocs.org/en/latest/texts/ETCBC-reference.html\n",
      "    24s INFO: LOADED PREPARED data\n",
      "    24s INFO: DATA LOADED FROM SOURCE etcbc4b AND ANNOX lexicon FOR TASK monad_search AT 2016-05-13T14-48-25\n"
     ]
    }
   ],
   "source": [
    "fabric.load('etcbc4b', '--', 'monad_search',\n",
    "{\n",
    "    \"xmlids\" : {\"node\": False, \"edge\" : False},\n",
    "    \"features\" : (\"oid otype monads chapter verse book g_word_utf8 trailer_utf8\",\"\"),\n",
    "    \"prepare\" : prepare\n",
    "}\n",
    "           )\n",
    "exec(fabric.localnames.format(var='fabric'))"
   ]
  },
  {
   "cell_type": "code",
   "execution_count": 3,
   "metadata": {
    "collapsed": false
   },
   "outputs": [
    {
     "name": "stderr",
     "output_type": "stream",
     "text": [
      "    59s 6020 nodes appended\n"
     ]
    }
   ],
   "source": [
    "#indexes all nodes in the Song of Songs to facilitate faster searches\n",
    "#SongofSongs nodes are stored in \"nodes\" list\n",
    "\n",
    "corpus = [\"Canticum\"]\n",
    "\n",
    "cur_book = None\n",
    "nodes = []\n",
    "\n",
    "for n in NN():\n",
    "    if cur_book in corpus:\n",
    "        nodes.append(n)\n",
    "    \n",
    "    if F.otype.v(n) == 'book':\n",
    "        cur_book = F.book.v(n)\n",
    "        \n",
    "msg('{} nodes appended'.format(len(nodes)))"
   ]
  },
  {
   "cell_type": "code",
   "execution_count": 9,
   "metadata": {
    "collapsed": false
   },
   "outputs": [
    {
     "name": "stderr",
     "output_type": "stream",
     "text": [
      " 4m 51s ( 1/48 )  (V.Hv.S.Sa)\n",
      " 4m 51s ( 2/48 )  (S.Sa.C.Ca)\n",
      " 4m 51s ( 3/48 )  (S.Sa.C.Ca)\n",
      " 4m 51s ( 4/48 )  (S.Sa.C.Ca)\n",
      " 4m 51s ( 5/48 )  (S.Sa)\n",
      " 4m 51s ( 6/48 )  (Hv.S.Sa.C.Ca)\n",
      " 4m 51s ( 7/48 )  (Hv)\n",
      " 4m 51s ( 8/48 )  (S.Sa.C.Ca)\n",
      " 4m 51s ( 9/48 )  (N)\n",
      " 4m 51s ( 10/48 )  (S.Sa.C.Ca)\n",
      " 4m 51s ( 11/48 )  (S.Sa.C.Ca)\n",
      " 4m 51s ( 12/48 )  (N)\n",
      " 4m 51s ( 13/48 )  (C.Ca.P.Pa)\n",
      " 4m 51s ( 14/48 )  (Pa)\n",
      " 4m 51s ( 15/48 )  (Pa)\n",
      " 4m 51s ( 16/48 )  (N)\n",
      " 4m 51s ( 17/48 )  (C.Ca)\n",
      " 4m 51s ( 18/48 )  (S.Sa.C.Ca)\n",
      " 4m 51s ( 19/48 )  (S.Sa)\n",
      " 4m 51s ( 20/48 )  (S.Sa)\n",
      " 4m 51s ( 21/48 )  (N)\n",
      " 4m 51s ( 22/48 )  (C.Ca)\n",
      " 4m 51s ( 23/48 )  (C.Ca)\n",
      " 4m 51s ( 24/48 )  (N)\n",
      " 4m 51s ( 25/48 )  (P.Pa)\n",
      " 4m 51s ( 26/48 )  (C.Ca)\n",
      " 4m 51s ( 27/48 )  (C.Ca)\n",
      " 4m 51s ( 28/48 )  (S.Sa.C.Ca)\n",
      " 4m 51s ( 29/48 )  (N)\n",
      " 4m 51s ( 30/48 )  (P.Pa)\n",
      " 4m 51s ( 31/48 )  (P)\n",
      " 4m 51s ( 32/48 )  (N)\n",
      " 4m 51s ( 33/48 )  (C.Ca)\n",
      " 4m 51s ( 34/48 )  (C.Ca)\n",
      " 4m 51s ( 35/48 )  (N)\n",
      " 4m 51s ( 36/48 )  (P.Pa)\n",
      " 4m 51s ( 37/48 )  (C.Ca)\n",
      " 4m 51s ( 38/48 )  (C.Ca)\n",
      " 4m 51s ( 39/48 )  (C.Ca)\n",
      " 4m 51s ( 40/48 )  (C.Ca)\n",
      " 4m 51s ( 41/48 )  (N)\n",
      " 4m 51s ( 42/48 )  (P.Pa)\n",
      " 4m 51s ( 43/48 )  (S.Sa)\n",
      " 4m 51s ( 44/48 )  (N)\n",
      " 4m 51s ( 45/48 )  (N)\n",
      " 4m 51s ( 46/48 )  (S.Sa.C.Ca)\n",
      " 4m 51s ( 47/48 )  (S.Sa.C.Ca)\n",
      " 4m 52s ( 48/48 )  (S.Sa.C.Ca)\n"
     ]
    }
   ],
   "source": [
    "filename = 'BHQchapter_1'\n",
    "\n",
    "\n",
    "import csv\n",
    "sticho_dict = collections.OrderedDict([])\n",
    "monad_list = []\n",
    "type_codes = {\"word\":\"W\", \"phrase_atom\":\"Pa\", \"clause_atom\":\"Ca\", \"sentence_atom\":\"Sa\", \"subphrase\":\"Sp\", \n",
    "              \"phrase\":\"P\",\"clause\":\"C\",\"sentence\":\"S\",\"half_verse\":\"Hv\", \"verse\": \"V\"}\n",
    "\n",
    "with open('{}.csv'.format(filename), 'r') as csvfile2:\n",
    "    readit = csv.reader(csvfile2)\n",
    "    for line in readit:\n",
    "        sticho_dict[int(line[0])] = [int(line[1]), line[2], line[3], line[4]]\n",
    "\n",
    "for key in sticho_dict:\n",
    "    monad_list.append([key,sticho_dict[key][0]])\n",
    "    \n",
    "\n",
    "sysct = 0\n",
    "for pair in monad_list:\n",
    "    lookup = '{}-{}'.format(pair[0],pair[1])\n",
    "    monads = tuple(int(x) for x in lookup.split('-'))\n",
    "    monad_list = [str(x) for x in range(monads[0], monads[1] +1)]\n",
    "    \n",
    "    #looks up every word between m_1 and m_2\n",
    "    monad_set = set(monad_list)\n",
    "    \n",
    "    lookedup = []\n",
    "    words = {}\n",
    "    \n",
    "\n",
    "    for node in nodes:\n",
    "        mon = F.monads.v(node)\n",
    "        if mon == lookup:\n",
    "            lookedup.append(node)\n",
    "        if mon in monad_set:\n",
    "            words[mon] = node\n",
    "    \n",
    "    otype_code = \"\"\n",
    "    \n",
    "    if lookedup != []:\n",
    "        dotct = len(lookedup)\n",
    "        for n in lookedup:\n",
    "            otype = F.otype.v(n)\n",
    "            if otype in type_codes:\n",
    "                dotct -= 1\n",
    "                if dotct > 0:\n",
    "                    otype_code += type_codes[otype]+\".\"\n",
    "                else:\n",
    "                    otype_code += type_codes[otype]\n",
    "    \n",
    "    else:\n",
    "        otype_code += \"N\"\n",
    "    \n",
    "    sticho_dict[pair[0]].append(otype_code)\n",
    "    sysct += 1\n",
    "    msg(\"( {}/{} )  ({})\".format(sysct,len(sticho_dict),otype_code))"
   ]
  },
  {
   "cell_type": "code",
   "execution_count": 10,
   "metadata": {
    "collapsed": false
   },
   "outputs": [
    {
     "name": "stderr",
     "output_type": "stream",
     "text": [
      " 4m 56s job finished! file saved.\n"
     ]
    }
   ],
   "source": [
    "with open('{}_coded.csv'.format(filename), 'w') as csvfile:\n",
    "    writer = csv.writer(csvfile)\n",
    "    sysct = 0\n",
    "    for key in sticho_dict:\n",
    "        writer.writerow([sticho_dict[key][1]]+[key]+[sticho_dict[key][0]]+[sticho_dict[key][2]]+[sticho_dict[key][3]]+[sticho_dict[key][4]])\n",
    "msg(\"job finished! file saved.\")"
   ]
  },
  {
   "cell_type": "code",
   "execution_count": 12,
   "metadata": {
    "collapsed": false
   },
   "outputs": [
    {
     "name": "stdout",
     "output_type": "stream",
     "text": [
      "total stichoi = 48\n",
      "total none = 11\n",
      "22.92%\n",
      "['ab', 'ab', 'ab', 'abc', 'ab', 'abc', 'ab', 'ab', 'ab', 'ab', 'ab']\n"
     ]
    }
   ],
   "source": [
    "#Some examples of cola that carry no formal syntactic correspondence\n",
    "\n",
    "total = 0\n",
    "totalN = 0\n",
    "types = []\n",
    "accents = []\n",
    "for key in sticho_dict:\n",
    "    total += 1\n",
    "    if sticho_dict[key][4] == \"N\":\n",
    "        types.append(sticho_dict[key][2])\n",
    "        accents.append(sticho_dict[key][3])\n",
    "        totalN += 1\n",
    "\n",
    "print (\"total stichoi = \" + (str(total)))\n",
    "print (\"total none = \" + (str(totalN)))\n",
    "print (str(round(float(totalN / total)*100,2)) + \"%\")\n",
    "print (types)"
   ]
  },
  {
   "cell_type": "code",
   "execution_count": null,
   "metadata": {
    "collapsed": true
   },
   "outputs": [],
   "source": []
  }
 ],
 "metadata": {
  "kernelspec": {
   "display_name": "Python 3",
   "language": "python",
   "name": "python3"
  },
  "language_info": {
   "codemirror_mode": {
    "name": "ipython",
    "version": 3
   },
   "file_extension": ".py",
   "mimetype": "text/x-python",
   "name": "python",
   "nbconvert_exporter": "python",
   "pygments_lexer": "ipython3",
   "version": "3.5.1"
  }
 },
 "nbformat": 4,
 "nbformat_minor": 0
}
