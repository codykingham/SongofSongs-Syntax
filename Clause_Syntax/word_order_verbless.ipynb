{
 "cells": [
  {
   "cell_type": "code",
   "execution_count": 1,
   "metadata": {
    "collapsed": false
   },
   "outputs": [
    {
     "name": "stderr",
     "output_type": "stream",
     "text": [
      "  0.00s This is LAF-Fabric 4.5.21\n",
      "API reference: http://laf-fabric.readthedocs.org/en/latest/texts/API-reference.html\n",
      "Feature doc: https://shebanq.ancient-data.org/static/docs/featuredoc/texts/welcome.html\n",
      "\n"
     ]
    }
   ],
   "source": [
    "import sys\n",
    "import collections\n",
    "import re\n",
    "\n",
    "from laf.fabric import LafFabric\n",
    "from etcbc.preprocess import prepare\n",
    "fabric = LafFabric(verbose = '')"
   ]
  },
  {
   "cell_type": "code",
   "execution_count": 2,
   "metadata": {
    "collapsed": false
   },
   "outputs": [
    {
     "name": "stderr",
     "output_type": "stream",
     "text": [
      "  0.00s LOADING API: please wait ... \n",
      "  0.06s USING main  DATA COMPILED AT: 2015-11-02T15-08-56\n",
      "  4.30s LOGFILE=/Users/Cody/laf-fabric-output/etcbc4b/word_order_verbless/__log__word_order_verbless.txt\n",
      "  4.30s INFO: LOADING PREPARED data: please wait ... \n",
      "  4.30s prep prep: G.node_sort\n",
      "  4.43s prep prep: G.node_sort_inv\n",
      "  4.96s prep prep: L.node_up\n",
      "  8.88s prep prep: L.node_down\n",
      "    15s prep prep: V.verses\n",
      "    15s prep prep: V.books_la\n",
      "    15s ETCBC reference: http://laf-fabric.readthedocs.org/en/latest/texts/ETCBC-reference.html\n",
      "    17s INFO: LOADED PREPARED data\n",
      "    17s INFO: DATA LOADED FROM SOURCE etcbc4b AND ANNOX lexicon FOR TASK word_order_verbless AT 2016-03-30T01-42-07\n"
     ]
    }
   ],
   "source": [
    "API = fabric.load('etcbc4b','--','word_order_verbless',\n",
    "\n",
    "                  {'primary': False,\n",
    "                   'xmlids':{'node':False,'edge':False},\n",
    "                   'features':('book chapter verse otype code typ txt monads function g_cons_utf8',''),\n",
    "                   'prepare': prepare\n",
    "        \n",
    "                    }\n",
    ")\n",
    "exec(fabric.localnames.format(var='fabric'))"
   ]
  },
  {
   "cell_type": "code",
   "execution_count": 3,
   "metadata": {
    "collapsed": true
   },
   "outputs": [],
   "source": [
    "def get_percent(total,freq):\n",
    "    return str(round(float(freq / total)*100,2))+'%'\n",
    "\n",
    "def get_ref(ref_type,node):\n",
    "    if ref_type == 'verse':\n",
    "        verse = L.u('verse',node)\n",
    "        return F.verse.v(verse)\n",
    "    elif ref_type == 'chapter':\n",
    "        chapter = L.u('chapter',node)\n",
    "        return F.chapter.v(chapter)\n",
    "    elif ref_type == 'book':\n",
    "        book = L.u('book',node)\n",
    "        return F.book.v(book)"
   ]
  },
  {
   "cell_type": "markdown",
   "metadata": {},
   "source": [
    "# In Song"
   ]
  },
  {
   "cell_type": "code",
   "execution_count": 4,
   "metadata": {
    "collapsed": false
   },
   "outputs": [
    {
     "name": "stderr",
     "output_type": "stream",
     "text": [
      "    27s 6020 nodes appended\n"
     ]
    }
   ],
   "source": [
    "#indexes all nodes in corpus for faster searches\n",
    "\n",
    "corpus = [\"Canticum\"]\n",
    "\n",
    "cur_book = None\n",
    "nodes = []\n",
    "\n",
    "for n in NN():\n",
    "    if cur_book in corpus:\n",
    "        nodes.append(n)\n",
    "    \n",
    "    if F.otype.v(n) == 'book':\n",
    "        cur_book = F.book.v(n)\n",
    "        \n",
    "msg('{} nodes appended'.format(len(nodes)))"
   ]
  },
  {
   "cell_type": "code",
   "execution_count": 5,
   "metadata": {
    "collapsed": false
   },
   "outputs": [],
   "source": [
    "verbless = ['NmCl','AjCl']\n",
    "\n",
    "verbless_phrases = []\n",
    "\n",
    "for n in nodes:\n",
    "    otype = F.otype.v(n)\n",
    "    if otype == 'clause' and F.typ.v(n) in verbless:\n",
    "        verbless_phrases.append(L.d('phrase',n))"
   ]
  },
  {
   "cell_type": "code",
   "execution_count": 6,
   "metadata": {
    "collapsed": false
   },
   "outputs": [],
   "source": [
    "verbless_subjects = []\n",
    "\n",
    "for phrase in verbless_phrases:\n",
    "    new_phrase= []\n",
    "    subject = False\n",
    "    preC = False\n",
    "    for word in phrase:\n",
    "        if F.function.v(word) == 'Subj':\n",
    "            subject = True\n",
    "    for word in phrase:\n",
    "        if F.function.v(word) == 'PreC':\n",
    "            preC = True\n",
    "    if subject == True and preC == True:\n",
    "        for word in phrase:\n",
    "            new_phrase.append(F.function.v(word))\n",
    "        verbless_subjects.append(new_phrase)"
   ]
  },
  {
   "cell_type": "code",
   "execution_count": 7,
   "metadata": {
    "collapsed": false
   },
   "outputs": [],
   "source": [
    "subj_first = []\n",
    "predC_first = []\n",
    "\n",
    "subj_first_total = 0\n",
    "predC_first_total = 0\n",
    "total = 0\n",
    "\n",
    "for phrase in verbless_subjects:\n",
    "    total += 1\n",
    "    for function in phrase:\n",
    "        if function == 'Subj':\n",
    "            subj_first_total += 1\n",
    "            subj_first.append(phrase)\n",
    "            break\n",
    "        elif function == 'PreC':\n",
    "            predC_first_total += 1\n",
    "            predC_first.append(phrase)\n",
    "            break"
   ]
  },
  {
   "cell_type": "code",
   "execution_count": 8,
   "metadata": {
    "collapsed": false
   },
   "outputs": [
    {
     "name": "stdout",
     "output_type": "stream",
     "text": [
      "total verbless with subjects:   90\n",
      "total verbless with subj first: 65 (72.22%)\n",
      "total verbless with preC first: 25 (27.78%)\n"
     ]
    }
   ],
   "source": [
    "print ('total verbless with subjects:   {}'.format(total))\n",
    "print ('total verbless with subj first: {} ({})'.format(subj_first_total,get_percent(total,subj_first_total)))\n",
    "print ('total verbless with preC first: {} ({})'.format(predC_first_total,get_percent(total,predC_first_total)))\n"
   ]
  },
  {
   "cell_type": "markdown",
   "metadata": {},
   "source": [
    "# Verbless Mains (Song)"
   ]
  },
  {
   "cell_type": "code",
   "execution_count": 10,
   "metadata": {
    "collapsed": false
   },
   "outputs": [],
   "source": [
    "def code_filter(node):\n",
    "    \n",
    "    code = int(F.code.v(node))\n",
    "    \n",
    "    #asyndetic\n",
    "    if 100 <= code <= 167:\n",
    "        return True\n",
    "    \n",
    "    #parallel\n",
    "    elif 200 <= code <= 201:\n",
    "        return True\n",
    "    \n",
    "    #asyndetic with conj.\n",
    "    elif 300 <= code <= 367:\n",
    "        return True\n",
    "        \n",
    "    #syndetic\n",
    "    elif 400 <= code <= 487:\n",
    "        return True\n",
    "    \n",
    "    #first cl in direct speech\n",
    "    elif code == 999:\n",
    "        return True"
   ]
  },
  {
   "cell_type": "code",
   "execution_count": 13,
   "metadata": {
    "collapsed": false
   },
   "outputs": [],
   "source": [
    "verbless = ['NmCl','AjCl']\n",
    "\n",
    "verbless_phrases = []\n",
    "\n",
    "for n in nodes:\n",
    "    otype = F.otype.v(n)\n",
    "    if otype == 'clause_atom' and F.typ.v(n) in verbless and code_filter(n) == True:\n",
    "        verbless_phrases.append(L.d('phrase',n))"
   ]
  },
  {
   "cell_type": "code",
   "execution_count": 14,
   "metadata": {
    "collapsed": true
   },
   "outputs": [],
   "source": [
    "verbless_subjects = []\n",
    "\n",
    "for phrase in verbless_phrases:\n",
    "    new_phrase= []\n",
    "    subject = False\n",
    "    preC = False\n",
    "    for word in phrase:\n",
    "        if F.function.v(word) == 'Subj':\n",
    "            subject = True\n",
    "    for word in phrase:\n",
    "        if F.function.v(word) == 'PreC':\n",
    "            preC = True\n",
    "    if subject == True and preC == True:\n",
    "        for word in phrase:\n",
    "            new_phrase.append(F.function.v(word))\n",
    "        verbless_subjects.append(new_phrase)"
   ]
  },
  {
   "cell_type": "code",
   "execution_count": 15,
   "metadata": {
    "collapsed": true
   },
   "outputs": [],
   "source": [
    "subj_first = []\n",
    "predC_first = []\n",
    "\n",
    "subj_first_total = 0\n",
    "predC_first_total = 0\n",
    "total = 0\n",
    "\n",
    "for phrase in verbless_subjects:\n",
    "    total += 1\n",
    "    for function in phrase:\n",
    "        if function == 'Subj':\n",
    "            subj_first_total += 1\n",
    "            subj_first.append(phrase)\n",
    "            break\n",
    "        elif function == 'PreC':\n",
    "            predC_first_total += 1\n",
    "            predC_first.append(phrase)\n",
    "            break"
   ]
  },
  {
   "cell_type": "code",
   "execution_count": 16,
   "metadata": {
    "collapsed": false
   },
   "outputs": [
    {
     "name": "stdout",
     "output_type": "stream",
     "text": [
      "total verbless with subjects:   78\n",
      "total verbless with subj first: 59 (75.64%)\n",
      "total verbless with preC first: 19 (24.36%)\n"
     ]
    }
   ],
   "source": [
    "print ('total verbless with subjects:   {}'.format(total))\n",
    "print ('total verbless with subj first: {} ({})'.format(subj_first_total,get_percent(total,subj_first_total)))\n",
    "print ('total verbless with preC first: {} ({})'.format(predC_first_total,get_percent(total,predC_first_total)))\n"
   ]
  },
  {
   "cell_type": "markdown",
   "metadata": {},
   "source": [
    "# In Ancient Poetry"
   ]
  },
  {
   "cell_type": "code",
   "execution_count": 68,
   "metadata": {
    "collapsed": false
   },
   "outputs": [
    {
     "name": "stderr",
     "output_type": "stream",
     "text": [
      "22m 09s 9523 nodes appended\n"
     ]
    }
   ],
   "source": [
    "corpus = {'Genesis_49':[str(x) for x in range (1,28)],\n",
    "          'Exodus_15':[str(x) for x in range (1,22)],\n",
    "          'Numeri_23':[str(x) for x in range (7,11)]+[str(x) for x in range (18,25)],\n",
    "          'Numeri_24':[str(x) for x in range (3,10)]+[str(x) for x in range (15,25)],\n",
    "          'Deuteronomium_32':[str(x) for x in range (1,44)],\n",
    "          'Deuteronomium_33':[str(x) for x in range (2,30)],\n",
    "          'Judices_5':[str(x) for x in range (2,32)]\n",
    "         }\n",
    "\n",
    "cur_book = None\n",
    "poetry_nodes = []\n",
    "\n",
    "for n in NN():\n",
    "    chapter = get_ref('chapter',n)\n",
    "    verse = get_ref('verse',n)\n",
    "    if ('{}_{}'.format(cur_book,chapter) in corpus) and verse in corpus['{}_{}'.format(cur_book,chapter)]:\n",
    "        poetry_nodes.append(n)\n",
    "    \n",
    "    if F.otype.v(n) == 'book':\n",
    "        cur_book = F.book.v(n)\n",
    "        \n",
    "msg('{} nodes appended'.format(len(poetry_nodes)))"
   ]
  },
  {
   "cell_type": "code",
   "execution_count": 70,
   "metadata": {
    "collapsed": true
   },
   "outputs": [],
   "source": [
    "verbless = ['NmCl','AjCl']\n",
    "\n",
    "verbless_phrases = []\n",
    "\n",
    "for n in poetry_nodes:\n",
    "    otype = F.otype.v(n)\n",
    "    if otype == 'clause' and F.typ.v(n) in verbless:\n",
    "        verbless_phrases.append(L.d('phrase',n))"
   ]
  },
  {
   "cell_type": "code",
   "execution_count": 71,
   "metadata": {
    "collapsed": true
   },
   "outputs": [],
   "source": [
    "verbless_subjects = []\n",
    "\n",
    "for phrase in verbless_phrases:\n",
    "    new_phrase= []\n",
    "    subject = False\n",
    "    preC = False\n",
    "    for word in phrase:\n",
    "        if F.function.v(word) == 'Subj':\n",
    "            subject = True\n",
    "    for word in phrase:\n",
    "        if F.function.v(word) == 'PreC':\n",
    "            preC = True\n",
    "    if subject == True and preC == True:\n",
    "        for word in phrase:\n",
    "            new_phrase.append(F.function.v(word))\n",
    "        verbless_subjects.append(new_phrase)"
   ]
  },
  {
   "cell_type": "code",
   "execution_count": 72,
   "metadata": {
    "collapsed": true
   },
   "outputs": [],
   "source": [
    "subj_first = []\n",
    "predC_first = []\n",
    "\n",
    "subj_first_total = 0\n",
    "predC_first_total = 0\n",
    "total = 0\n",
    "\n",
    "for phrase in verbless_subjects:\n",
    "    total += 1\n",
    "    for function in phrase:\n",
    "        if function == 'Subj':\n",
    "            subj_first_total += 1\n",
    "            subj_first.append(phrase)\n",
    "            break\n",
    "        elif function == 'PreC':\n",
    "            predC_first_total += 1\n",
    "            predC_first.append(phrase)\n",
    "            break"
   ]
  },
  {
   "cell_type": "code",
   "execution_count": 74,
   "metadata": {
    "collapsed": false
   },
   "outputs": [
    {
     "name": "stdout",
     "output_type": "stream",
     "text": [
      "total verbless with subjects:   85\n",
      "total verbless with subj first: 49 (57.65%)\n",
      "total verbless with preC first: 36 (42.35%)\n"
     ]
    }
   ],
   "source": [
    "print ('total verbless with subjects:   {}'.format(total))\n",
    "print ('total verbless with subj first: {} ({})'.format(subj_first_total,get_percent(total,subj_first_total)))\n",
    "print ('total verbless with preC first: {} ({})'.format(predC_first_total,get_percent(total,predC_first_total)))"
   ]
  },
  {
   "cell_type": "markdown",
   "metadata": {},
   "source": [
    "# In Psalms"
   ]
  },
  {
   "cell_type": "code",
   "execution_count": 75,
   "metadata": {
    "collapsed": false
   },
   "outputs": [
    {
     "name": "stderr",
     "output_type": "stream",
     "text": [
      "27m 57s 99028 nodes appended\n"
     ]
    }
   ],
   "source": [
    "#indexes all nodes in corpus for faster searches\n",
    "\n",
    "corpus = [\"Psalmi\"]\n",
    "\n",
    "cur_book = None\n",
    "psalms_nodes = []\n",
    "\n",
    "for n in NN():\n",
    "    if cur_book in corpus:\n",
    "        psalms_nodes.append(n)\n",
    "    \n",
    "    if F.otype.v(n) == 'book':\n",
    "        cur_book = F.book.v(n)\n",
    "        \n",
    "msg('{} nodes appended'.format(len(psalms_nodes)))"
   ]
  },
  {
   "cell_type": "code",
   "execution_count": 76,
   "metadata": {
    "collapsed": true
   },
   "outputs": [],
   "source": [
    "verbless = ['NmCl','AjCl']\n",
    "\n",
    "verbless_phrases = []\n",
    "\n",
    "for n in psalms_nodes:\n",
    "    otype = F.otype.v(n)\n",
    "    if otype == 'clause' and F.typ.v(n) in verbless:\n",
    "        verbless_phrases.append(L.d('phrase',n))"
   ]
  },
  {
   "cell_type": "code",
   "execution_count": 77,
   "metadata": {
    "collapsed": true
   },
   "outputs": [],
   "source": [
    "verbless_subjects = []\n",
    "\n",
    "for phrase in verbless_phrases:\n",
    "    new_phrase= []\n",
    "    subject = False\n",
    "    preC = False\n",
    "    for word in phrase:\n",
    "        if F.function.v(word) == 'Subj':\n",
    "            subject = True\n",
    "    for word in phrase:\n",
    "        if F.function.v(word) == 'PreC':\n",
    "            preC = True\n",
    "    if subject == True and preC == True:\n",
    "        for word in phrase:\n",
    "            new_phrase.append(F.function.v(word))\n",
    "        verbless_subjects.append(new_phrase)"
   ]
  },
  {
   "cell_type": "code",
   "execution_count": 78,
   "metadata": {
    "collapsed": true
   },
   "outputs": [],
   "source": [
    "subj_first = []\n",
    "predC_first = []\n",
    "\n",
    "subj_first_total = 0\n",
    "predC_first_total = 0\n",
    "total = 0\n",
    "\n",
    "for phrase in verbless_subjects:\n",
    "    total += 1\n",
    "    for function in phrase:\n",
    "        if function == 'Subj':\n",
    "            subj_first_total += 1\n",
    "            subj_first.append(phrase)\n",
    "            break\n",
    "        elif function == 'PreC':\n",
    "            predC_first_total += 1\n",
    "            predC_first.append(phrase)\n",
    "            break"
   ]
  },
  {
   "cell_type": "code",
   "execution_count": 79,
   "metadata": {
    "collapsed": false
   },
   "outputs": [
    {
     "name": "stdout",
     "output_type": "stream",
     "text": [
      "total verbless with subjects:   645\n",
      "total verbless with subj first: 342 (53.02%)\n",
      "total verbless with preC first: 303 (46.98%)\n"
     ]
    }
   ],
   "source": [
    "print ('total verbless with subjects:   {}'.format(total))\n",
    "print ('total verbless with subj first: {} ({})'.format(subj_first_total,get_percent(total,subj_first_total)))\n",
    "print ('total verbless with preC first: {} ({})'.format(predC_first_total,get_percent(total,predC_first_total)))"
   ]
  },
  {
   "cell_type": "code",
   "execution_count": null,
   "metadata": {
    "collapsed": true
   },
   "outputs": [],
   "source": []
  }
 ],
 "metadata": {
  "kernelspec": {
   "display_name": "Python 3",
   "language": "python",
   "name": "python3"
  },
  "language_info": {
   "codemirror_mode": {
    "name": "ipython",
    "version": 3
   },
   "file_extension": ".py",
   "mimetype": "text/x-python",
   "name": "python",
   "nbconvert_exporter": "python",
   "pygments_lexer": "ipython3",
   "version": "3.5.1"
  }
 },
 "nbformat": 4,
 "nbformat_minor": 0
}
