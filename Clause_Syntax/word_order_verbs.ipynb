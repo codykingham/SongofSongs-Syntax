{
 "cells": [
  {
   "cell_type": "code",
   "execution_count": 2,
   "metadata": {
    "collapsed": false
   },
   "outputs": [
    {
     "name": "stderr",
     "output_type": "stream",
     "text": [
      "  0.00s This is LAF-Fabric 4.5.21\n",
      "API reference: http://laf-fabric.readthedocs.org/en/latest/texts/API-reference.html\n",
      "Feature doc: https://shebanq.ancient-data.org/static/docs/featuredoc/texts/welcome.html\n",
      "\n"
     ]
    }
   ],
   "source": [
    "import sys\n",
    "import collections\n",
    "\n",
    "from laf.fabric import LafFabric\n",
    "from etcbc.preprocess import prepare\n",
    "fabric = LafFabric(verbose = '')"
   ]
  },
  {
   "cell_type": "code",
   "execution_count": 3,
   "metadata": {
    "collapsed": false
   },
   "outputs": [
    {
     "name": "stderr",
     "output_type": "stream",
     "text": [
      "  0.00s LOADING API: please wait ... \n",
      "  0.07s USING main  DATA COMPILED AT: 2015-11-02T15-08-56\n",
      "  4.37s LOGFILE=/Users/Cody/laf-fabric-output/etcbc4b/word_order_verbs/__log__word_order_verbs.txt\n",
      "  4.37s INFO: LOADING PREPARED data: please wait ... \n",
      "  4.37s prep prep: G.node_sort\n",
      "  4.50s prep prep: G.node_sort_inv\n",
      "  5.27s prep prep: L.node_up\n",
      "  9.39s prep prep: L.node_down\n",
      "    17s prep prep: V.verses\n",
      "    18s prep prep: V.books_la\n",
      "    18s ETCBC reference: http://laf-fabric.readthedocs.org/en/latest/texts/ETCBC-reference.html\n",
      "    24s INFO: LOADED PREPARED data\n",
      "    24s INFO: DATA LOADED FROM SOURCE etcbc4b AND ANNOX lexicon FOR TASK word_order_verbs AT 2016-03-30T01-11-18\n"
     ]
    }
   ],
   "source": [
    "API = fabric.load('etcbc4b','--','word_order_verbs',\n",
    "\n",
    "                  {'primary': False,\n",
    "                   'xmlids':{'node':False,'edge':False},\n",
    "                   'features':('book chapter verse otype code typ txt monads',''),\n",
    "                   'prepare': prepare\n",
    "        \n",
    "                    }\n",
    ")\n",
    "exec(fabric.localnames.format(var='fabric'))"
   ]
  },
  {
   "cell_type": "code",
   "execution_count": 4,
   "metadata": {
    "collapsed": true
   },
   "outputs": [],
   "source": [
    "import re"
   ]
  },
  {
   "cell_type": "code",
   "execution_count": 5,
   "metadata": {
    "collapsed": false
   },
   "outputs": [
    {
     "name": "stderr",
     "output_type": "stream",
     "text": [
      "  5.68s 6020 nodes appended\n"
     ]
    }
   ],
   "source": [
    "#indexes all nodes in corpus for faster searches\n",
    "\n",
    "corpus = [\"Canticum\"]\n",
    "\n",
    "cur_book = None\n",
    "nodes = []\n",
    "\n",
    "for n in NN():\n",
    "    if cur_book in corpus:\n",
    "        nodes.append(n)\n",
    "    \n",
    "    if F.otype.v(n) == 'book':\n",
    "        cur_book = F.book.v(n)\n",
    "        \n",
    "msg('{} nodes appended'.format(len(nodes)))"
   ]
  },
  {
   "cell_type": "code",
   "execution_count": 6,
   "metadata": {
    "collapsed": true
   },
   "outputs": [],
   "source": [
    "def get_percent(total,freq):\n",
    "    return str(round(float(freq / total)*100,2))+'%'"
   ]
  },
  {
   "cell_type": "markdown",
   "metadata": {},
   "source": [
    "# All Clauses in Song"
   ]
  },
  {
   "cell_type": "code",
   "execution_count": 43,
   "metadata": {
    "collapsed": false
   },
   "outputs": [
    {
     "name": "stderr",
     "output_type": "stream",
     "text": [
      "12m 03s 211 loaded\n"
     ]
    }
   ],
   "source": [
    "Song_Clauses = []\n",
    "\n",
    "clause_filter = ['AjCl', 'CPen', 'Defc', 'Ellp', 'InfA', 'InfC', \n",
    "                 'MSyn', 'NmCl', 'Ptcp', 'Reop','Unkn', 'Voct']\n",
    "\n",
    "for node in nodes:\n",
    "    otype = F.otype.v(node)\n",
    "    \n",
    "    if otype == \"clause\" and F.typ.v(node) not in clause_filter:\n",
    "        Song_Clauses.append(F.typ.v(node))\n",
    "        \n",
    "msg(str(len(Song_Clauses))+\" loaded\")\n"
   ]
  },
  {
   "cell_type": "code",
   "execution_count": 44,
   "metadata": {
    "collapsed": false
   },
   "outputs": [
    {
     "name": "stderr",
     "output_type": "stream",
     "text": [
      "12m 04s 103 loaded\n"
     ]
    }
   ],
   "source": [
    "fronted = []\n",
    "fronted_subject = []\n",
    "\n",
    "total = 0\n",
    "fronted_total = 0\n",
    "fronted_sub_total = 0\n",
    "\n",
    "for clause in Song_Clauses:\n",
    "    total += 1\n",
    "    tester = re.findall('X.|x.',clause,0)\n",
    "    if len(tester) != 0:\n",
    "        fronted.append(clause)\n",
    "        fronted_total += 1\n",
    "msg(str(len(fronted))+\" loaded\")\n",
    "\n",
    "for clause in fronted:\n",
    "    tester = re.findall('X.',clause,0)\n",
    "    if len(tester) != 0:\n",
    "        fronted_subject.append(clause)\n",
    "        fronted_sub_total += 1"
   ]
  },
  {
   "cell_type": "code",
   "execution_count": 45,
   "metadata": {
    "collapsed": false
   },
   "outputs": [
    {
     "name": "stdout",
     "output_type": "stream",
     "text": [
      "total: 130\n",
      "fronted: 103 (48.82%)\n",
      "fr_Subj: 27 (12.8%)\n"
     ]
    }
   ],
   "source": [
    "print ('total: {}'.format(fronted_sub_total+fronted_total))\n",
    "print ('fronted: {} ({})'.format(fronted_total, get_percent(total,fronted_total)))\n",
    "print ('fr_Subj: {} ({})'.format(fronted_sub_total, get_percent(total,fronted_sub_total)))"
   ]
  },
  {
   "cell_type": "markdown",
   "metadata": {},
   "source": [
    "# Main Clauses"
   ]
  },
  {
   "cell_type": "code",
   "execution_count": 46,
   "metadata": {
    "collapsed": false
   },
   "outputs": [],
   "source": [
    "def code_filter(node):\n",
    "    \n",
    "    code = int(F.code.v(node))\n",
    "    clause_filter = ['AjCl', 'CPen', 'Defc', 'Ellp', 'InfA', 'InfC', \n",
    "                 'MSyn', 'NmCl', 'Ptcp', 'Reop','Unkn', 'Voct']\n",
    "    \n",
    "    if F.typ.v(node) in clause_filter:\n",
    "        return False\n",
    "    \n",
    "    #asyndetic\n",
    "    elif 100 <= code <= 167:\n",
    "        return True\n",
    "    \n",
    "    #parallel\n",
    "    elif 200 <= code <= 201:\n",
    "        return True\n",
    "    \n",
    "    #asyndetic with conj.\n",
    "    elif 300 <= code <= 367:\n",
    "        return True\n",
    "        \n",
    "    #syndetic\n",
    "    elif 400 <= code <= 487:\n",
    "        return True\n",
    "    \n",
    "    #first cl in direct speech\n",
    "    elif code == 999:\n",
    "        return True"
   ]
  },
  {
   "cell_type": "code",
   "execution_count": 47,
   "metadata": {
    "collapsed": false
   },
   "outputs": [
    {
     "name": "stderr",
     "output_type": "stream",
     "text": [
      "19m 34s 176 loaded\n"
     ]
    }
   ],
   "source": [
    "Song_Clauses = []\n",
    "\n",
    "for node in nodes:\n",
    "    otype = F.otype.v(node)\n",
    "    \n",
    "    if otype == \"clause_atom\" and code_filter(node)==True:\n",
    "        Song_Clauses.append(F.typ.v(node))\n",
    "        \n",
    "msg(str(len(Song_Clauses))+\" loaded\")\n"
   ]
  },
  {
   "cell_type": "code",
   "execution_count": 48,
   "metadata": {
    "collapsed": false
   },
   "outputs": [
    {
     "name": "stderr",
     "output_type": "stream",
     "text": [
      "19m 35s 68 loaded\n"
     ]
    }
   ],
   "source": [
    "fronted = []\n",
    "fronted_subject = []\n",
    "total = 0\n",
    "fronted_total = 0\n",
    "fronted_sub_total = 0\n",
    "\n",
    "for clause in Song_Clauses:\n",
    "    total += 1\n",
    "    tester = re.findall('X.|x.',clause,0)\n",
    "    if len(tester) != 0:\n",
    "        fronted.append(clause)\n",
    "        fronted_total += 1\n",
    "msg(str(len(fronted))+\" loaded\")\n",
    "\n",
    "for clause in fronted:\n",
    "    tester = re.findall('X.',clause,0)\n",
    "    if len(tester) != 0:\n",
    "        fronted_subject.append(clause)\n",
    "        fronted_sub_total += 1"
   ]
  },
  {
   "cell_type": "code",
   "execution_count": 49,
   "metadata": {
    "collapsed": false
   },
   "outputs": [
    {
     "name": "stdout",
     "output_type": "stream",
     "text": [
      "total: 92\n",
      "fronted: 68 (38.64%)\n",
      "fr_Subj: 24 (13.64%)\n"
     ]
    }
   ],
   "source": [
    "print ('total: {}'.format(fronted_sub_total+fronted_total))\n",
    "print ('fronted: {} ({})'.format(fronted_total, get_percent(total,fronted_total)))\n",
    "print ('fr_Subj: {} ({})'.format(fronted_sub_total, get_percent(total,fronted_sub_total)))"
   ]
  },
  {
   "cell_type": "markdown",
   "metadata": {},
   "source": [
    "# Only Clauses with Subjects (out of all)"
   ]
  },
  {
   "cell_type": "code",
   "execution_count": 50,
   "metadata": {
    "collapsed": false
   },
   "outputs": [
    {
     "name": "stderr",
     "output_type": "stream",
     "text": [
      "19m 48s 211 loaded\n"
     ]
    }
   ],
   "source": [
    "Song_Clauses = []\n",
    "\n",
    "clause_filter = ['AjCl', 'CPen', 'Defc', 'Ellp', 'InfA', 'InfC', \n",
    "                 'MSyn', 'NmCl', 'Ptcp', 'Reop','Unkn', 'Voct']\n",
    "\n",
    "for node in nodes:\n",
    "    otype = F.otype.v(node)\n",
    "    \n",
    "    if otype == \"clause\" and F.typ.v(node) not in clause_filter:\n",
    "        Song_Clauses.append(F.typ.v(node))\n",
    "        \n",
    "msg(str(len(Song_Clauses))+\" loaded\")\n"
   ]
  },
  {
   "cell_type": "code",
   "execution_count": 51,
   "metadata": {
    "collapsed": false
   },
   "outputs": [
    {
     "name": "stderr",
     "output_type": "stream",
     "text": [
      "19m 48s 65 loaded\n"
     ]
    }
   ],
   "source": [
    "fronted = []\n",
    "fronted_subject = []\n",
    "total = 0\n",
    "fronted_total = 0\n",
    "fronted_sub_total = 0\n",
    "\n",
    "for clause in Song_Clauses:\n",
    "    total += 1\n",
    "    tester = re.findall('X',clause,0)\n",
    "    if len(tester) != 0:\n",
    "        fronted.append(clause)\n",
    "        fronted_total += 1\n",
    "msg(str(len(fronted))+\" loaded\")\n",
    "\n",
    "for clause in fronted:\n",
    "    tester = re.findall('X.',clause,0)\n",
    "    if len(tester) != 0:\n",
    "        fronted_subject.append(clause)\n",
    "        fronted_sub_total += 1"
   ]
  },
  {
   "cell_type": "code",
   "execution_count": 52,
   "metadata": {
    "collapsed": false
   },
   "outputs": [
    {
     "name": "stdout",
     "output_type": "stream",
     "text": [
      "total: 92\n",
      "fronted: 65 (30.81% of total)\n",
      "fr_Subj: 27 (12.8% of fronted)\n"
     ]
    }
   ],
   "source": [
    "print ('total: {}'.format(fronted_sub_total+fronted_total))\n",
    "print ('fronted: {} ({} of total)'.format(fronted_total, get_percent(total,fronted_total)))\n",
    "print ('fr_Subj: {} ({} of fronted)'.format(fronted_sub_total, get_percent(total,fronted_sub_total)))"
   ]
  },
  {
   "cell_type": "markdown",
   "metadata": {},
   "source": [
    "# Only Clauses with Subjects (main only)"
   ]
  },
  {
   "cell_type": "code",
   "execution_count": 53,
   "metadata": {
    "collapsed": false
   },
   "outputs": [
    {
     "name": "stderr",
     "output_type": "stream",
     "text": [
      "19m 54s 176 loaded\n"
     ]
    }
   ],
   "source": [
    "Song_Clauses = []\n",
    "\n",
    "for node in nodes:\n",
    "    otype = F.otype.v(node)\n",
    "    \n",
    "    if otype == \"clause_atom\" and code_filter(node)==True:\n",
    "        Song_Clauses.append(F.typ.v(node))\n",
    "        \n",
    "msg(str(len(Song_Clauses))+\" loaded\")\n"
   ]
  },
  {
   "cell_type": "code",
   "execution_count": 54,
   "metadata": {
    "collapsed": false
   },
   "outputs": [
    {
     "name": "stderr",
     "output_type": "stream",
     "text": [
      "19m 59s 50 loaded\n"
     ]
    }
   ],
   "source": [
    "subjects = []\n",
    "fronted_subjects = []\n",
    "\n",
    "total = 0\n",
    "subjects_total = 0\n",
    "fronted_sub_total = 0\n",
    "\n",
    "for clause in Song_Clauses:\n",
    "    total += 1\n",
    "    tester = re.findall('X',clause,0)\n",
    "    if len(tester) != 0:\n",
    "        subjects.append(clause)\n",
    "        subjects_total += 1\n",
    "msg(str(len(subjects))+\" loaded\")\n",
    "\n",
    "for clause in subjects:\n",
    "    tester = re.findall('X.',clause,0)\n",
    "    if len(tester) != 0:\n",
    "        fronted_subjects.append(clause)\n",
    "        fronted_sub_total += 1"
   ]
  },
  {
   "cell_type": "code",
   "execution_count": 57,
   "metadata": {
    "collapsed": false
   },
   "outputs": [
    {
     "name": "stdout",
     "output_type": "stream",
     "text": [
      "total: 74\n",
      "subjects: 50 (28.41% of total)\n",
      "fr_Subj: 24 (13.64% of subjects)\n"
     ]
    }
   ],
   "source": [
    "print ('total: {}'.format(fronted_sub_total+subjects_total))\n",
    "print ('subjects: {} ({} of total)'.format(subjects_total, get_percent(total,subjects_total)))\n",
    "print ('fr_Subj: {} ({} of subjects)'.format(fronted_sub_total, get_percent(total,fronted_sub_total)))"
   ]
  },
  {
   "cell_type": "markdown",
   "metadata": {},
   "source": [
    "# Ancient Poetry Statistics (main, all)"
   ]
  },
  {
   "cell_type": "code",
   "execution_count": 150,
   "metadata": {
    "collapsed": false
   },
   "outputs": [
    {
     "name": "stderr",
     "output_type": "stream",
     "text": [
      " 1h 20m 15s 9523 nodes appended\n"
     ]
    }
   ],
   "source": [
    "def get_ref(ref_type,node):\n",
    "    if ref_type == 'verse':\n",
    "        verse = L.u('verse',node)\n",
    "        return F.verse.v(verse)\n",
    "    elif ref_type == 'chapter':\n",
    "        chapter = L.u('chapter',node)\n",
    "        return F.chapter.v(chapter)\n",
    "    elif ref_type == 'book':\n",
    "        book = L.u('book',node)\n",
    "        return F.book.v(book)\n",
    "\n",
    "corpus = {'Genesis_49':[str(x) for x in range (1,28)],\n",
    "          'Exodus_15':[str(x) for x in range (1,22)],\n",
    "          'Numeri_23':[str(x) for x in range (7,11)]+[str(x) for x in range (18,25)],\n",
    "          'Numeri_24':[str(x) for x in range (3,10)]+[str(x) for x in range (15,25)],\n",
    "          'Deuteronomium_32':[str(x) for x in range (1,44)],\n",
    "          'Deuteronomium_33':[str(x) for x in range (2,30)],\n",
    "          'Judices_5':[str(x) for x in range (2,32)]\n",
    "         }\n",
    "\n",
    "cur_book = None\n",
    "nodes = []\n",
    "\n",
    "for n in NN():\n",
    "    chapter = get_ref('chapter',n)\n",
    "    verse = get_ref('verse',n)\n",
    "    if ('{}_{}'.format(cur_book,chapter) in corpus) and verse in corpus['{}_{}'.format(cur_book,chapter)]:\n",
    "        nodes.append(n)\n",
    "    \n",
    "    if F.otype.v(n) == 'book':\n",
    "        cur_book = F.book.v(n)\n",
    "        \n",
    "msg('{} nodes appended'.format(len(nodes)))"
   ]
  },
  {
   "cell_type": "code",
   "execution_count": 151,
   "metadata": {
    "collapsed": false
   },
   "outputs": [
    {
     "name": "stderr",
     "output_type": "stream",
     "text": [
      " 1h 20m 19s 398 loaded\n"
     ]
    }
   ],
   "source": [
    "poetry_clauses = []\n",
    "\n",
    "for node in nodes:\n",
    "    otype = F.otype.v(node)\n",
    "    \n",
    "    if otype == \"clause_atom\" and code_filter(node)==True:\n",
    "        poetry_clauses.append(F.typ.v(node))\n",
    "        \n",
    "msg(str(len(poetry_clauses))+\" loaded\")\n"
   ]
  },
  {
   "cell_type": "code",
   "execution_count": 152,
   "metadata": {
    "collapsed": false
   },
   "outputs": [
    {
     "name": "stderr",
     "output_type": "stream",
     "text": [
      " 1h 20m 20s 154 loaded\n"
     ]
    }
   ],
   "source": [
    "fronted = []\n",
    "fronted_subject = []\n",
    "\n",
    "total = 0\n",
    "fronted_total = 0\n",
    "fronted_sub_total = 0\n",
    "\n",
    "for clause in poetry_clauses:\n",
    "    total += 1\n",
    "    tester = re.findall('X.|x.',clause,0)\n",
    "    if len(tester) != 0:\n",
    "        fronted.append(clause)\n",
    "        fronted_total += 1\n",
    "msg(str(len(fronted))+\" loaded\")\n",
    "\n",
    "for clause in fronted:\n",
    "    tester = re.findall('X.',clause,0)\n",
    "    if len(tester) != 0:\n",
    "        fronted_subject.append(clause)\n",
    "        fronted_sub_total += 1"
   ]
  },
  {
   "cell_type": "code",
   "execution_count": 154,
   "metadata": {
    "collapsed": false
   },
   "outputs": [
    {
     "name": "stdout",
     "output_type": "stream",
     "text": [
      "total: 398\n",
      "fronted: 154 (38.69% of total)\n",
      "fr_Subj: 46 (29.87% of fronted)\n"
     ]
    }
   ],
   "source": [
    "print ('total: {}'.format(total))\n",
    "print ('fronted: {} ({} of total)'.format(fronted_total, get_percent(total,fronted_total)))\n",
    "print ('fr_Subj: {} ({} of fronted)'.format(fronted_sub_total, get_percent(fronted_total,fronted_sub_total)))"
   ]
  },
  {
   "cell_type": "markdown",
   "metadata": {},
   "source": [
    "# Ancient Poetry (main; subjects only)"
   ]
  },
  {
   "cell_type": "code",
   "execution_count": 156,
   "metadata": {
    "collapsed": false
   },
   "outputs": [
    {
     "name": "stderr",
     "output_type": "stream",
     "text": [
      " 1h 22m 27s 122 loaded\n"
     ]
    }
   ],
   "source": [
    "subjects = []\n",
    "fronted_subjects = []\n",
    "\n",
    "total = 0\n",
    "subjects_total = 0\n",
    "fronted_sub_total = 0\n",
    "\n",
    "for clause in poetry_clauses:\n",
    "    total += 1\n",
    "    tester = re.findall('X',clause,0)\n",
    "    if len(tester) != 0:\n",
    "        subjects.append(clause)\n",
    "        subjects_total += 1\n",
    "msg(str(len(subjects))+\" loaded\")\n",
    "\n",
    "for clause in subjects:\n",
    "    tester = re.findall('X.',clause,0)\n",
    "    if len(tester) != 0:\n",
    "        fronted_subjects.append(clause)\n",
    "        fronted_sub_total += 1"
   ]
  },
  {
   "cell_type": "code",
   "execution_count": 157,
   "metadata": {
    "collapsed": false
   },
   "outputs": [
    {
     "name": "stdout",
     "output_type": "stream",
     "text": [
      "total: 398\n",
      "subjects: 122 (30.65% of total)\n",
      "fr_Subj: 46 (37.7% of subjects)\n"
     ]
    }
   ],
   "source": [
    "print ('total: {}'.format(total))\n",
    "print ('subjects: {} ({} of total)'.format(subjects_total, get_percent(total,subjects_total)))\n",
    "print ('fr_Subj: {} ({} of subjects)'.format(fronted_sub_total, get_percent(subjects_total,fronted_sub_total)))"
   ]
  },
  {
   "cell_type": "markdown",
   "metadata": {},
   "source": [
    "# Psalms (main; subject only)"
   ]
  },
  {
   "cell_type": "code",
   "execution_count": 159,
   "metadata": {
    "collapsed": false
   },
   "outputs": [
    {
     "name": "stderr",
     "output_type": "stream",
     "text": [
      " 1h 24m 15s 99028 nodes appended\n"
     ]
    }
   ],
   "source": [
    "#indexes all nodes in corpus for faster searches\n",
    "\n",
    "corpus = [\"Psalmi\"]\n",
    "\n",
    "cur_book = None\n",
    "nodes = []\n",
    "\n",
    "for n in NN():\n",
    "    if cur_book in corpus:\n",
    "        nodes.append(n)\n",
    "    \n",
    "    if F.otype.v(n) == 'book':\n",
    "        cur_book = F.book.v(n)\n",
    "        \n",
    "msg('{} nodes appended'.format(len(nodes)))"
   ]
  },
  {
   "cell_type": "code",
   "execution_count": 160,
   "metadata": {
    "collapsed": false
   },
   "outputs": [
    {
     "name": "stderr",
     "output_type": "stream",
     "text": [
      " 1h 24m 55s 4017 loaded\n"
     ]
    }
   ],
   "source": [
    "psalm_clauses = []\n",
    "\n",
    "for node in nodes:\n",
    "    otype = F.otype.v(node)\n",
    "    \n",
    "    if otype == \"clause_atom\" and code_filter(node)==True:\n",
    "        psalm_clauses.append(F.typ.v(node))\n",
    "        \n",
    "msg(str(len(psalm_clauses))+\" loaded\")"
   ]
  },
  {
   "cell_type": "code",
   "execution_count": 161,
   "metadata": {
    "collapsed": false
   },
   "outputs": [
    {
     "name": "stderr",
     "output_type": "stream",
     "text": [
      " 1h 25m 10s 1064 loaded\n"
     ]
    }
   ],
   "source": [
    "subjects = []\n",
    "fronted_subjects = []\n",
    "\n",
    "total = 0\n",
    "subjects_total = 0\n",
    "fronted_sub_total = 0\n",
    "\n",
    "for clause in psalm_clauses:\n",
    "    total += 1\n",
    "    tester = re.findall('X',clause,0)\n",
    "    if len(tester) != 0:\n",
    "        subjects.append(clause)\n",
    "        subjects_total += 1\n",
    "msg(str(len(subjects))+\" loaded\")\n",
    "\n",
    "for clause in subjects:\n",
    "    tester = re.findall('X.',clause,0)\n",
    "    if len(tester) != 0:\n",
    "        fronted_subjects.append(clause)\n",
    "        fronted_sub_total += 1"
   ]
  },
  {
   "cell_type": "code",
   "execution_count": 162,
   "metadata": {
    "collapsed": false
   },
   "outputs": [
    {
     "name": "stdout",
     "output_type": "stream",
     "text": [
      "total: 4017\n",
      "subjects: 1064 (26.49% of total)\n",
      "fr_Subj: 486 (45.68% of subjects)\n"
     ]
    }
   ],
   "source": [
    "print ('total: {}'.format(total))\n",
    "print ('subjects: {} ({} of total)'.format(subjects_total, get_percent(total,subjects_total)))\n",
    "print ('fr_Subj: {} ({} of subjects)'.format(fronted_sub_total, get_percent(subjects_total,fronted_sub_total)))"
   ]
  },
  {
   "cell_type": "code",
   "execution_count": null,
   "metadata": {
    "collapsed": true
   },
   "outputs": [],
   "source": []
  }
 ],
 "metadata": {
  "kernelspec": {
   "display_name": "Python 3",
   "language": "python",
   "name": "python3"
  },
  "language_info": {
   "codemirror_mode": {
    "name": "ipython",
    "version": 3
   },
   "file_extension": ".py",
   "mimetype": "text/x-python",
   "name": "python",
   "nbconvert_exporter": "python",
   "pygments_lexer": "ipython3",
   "version": "3.5.1"
  }
 },
 "nbformat": 4,
 "nbformat_minor": 0
}
