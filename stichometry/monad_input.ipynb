{
 "cells": [
  {
   "cell_type": "markdown",
   "metadata": {},
   "source": [
    "# Monad Input"
   ]
  },
  {
   "cell_type": "code",
   "execution_count": 1,
   "metadata": {
    "collapsed": false
   },
   "outputs": [
    {
     "name": "stderr",
     "output_type": "stream",
     "text": [
      "  0.00s This is LAF-Fabric 4.5.21\n",
      "API reference: http://laf-fabric.readthedocs.org/en/latest/texts/API-reference.html\n",
      "Feature doc: https://shebanq.ancient-data.org/static/docs/featuredoc/texts/welcome.html\n",
      "\n"
     ]
    }
   ],
   "source": [
    "import csv\n",
    "import collections\n",
    "import sys\n",
    "import laf\n",
    "from laf.fabric import LafFabric\n",
    "from etcbc.preprocess import prepare\n",
    "fabric = LafFabric(verbose='NORMAL')"
   ]
  },
  {
   "cell_type": "code",
   "execution_count": 2,
   "metadata": {
    "collapsed": false
   },
   "outputs": [
    {
     "name": "stderr",
     "output_type": "stream",
     "text": [
      "  0.00s LOADING API: please wait ... \n",
      "  0.00s USING main  DATA COMPILED AT: 2015-11-02T15-08-56\n",
      "  4.00s LOGFILE=/Users/Cody/laf-fabric-output/etcbc4b/monad_boundaries_input/__log__monad_boundaries_input.txt\n",
      "  4.00s INFO: LOADING PREPARED data: please wait ... \n",
      "  4.01s prep prep: G.node_sort\n",
      "  4.13s prep prep: G.node_sort_inv\n",
      "  4.77s prep prep: L.node_up\n",
      "  8.39s prep prep: L.node_down\n",
      "    14s prep prep: V.verses\n",
      "    14s prep prep: V.books_la\n",
      "    14s ETCBC reference: http://laf-fabric.readthedocs.org/en/latest/texts/ETCBC-reference.html\n",
      "    17s INFO: LOADED PREPARED data\n",
      "    17s INFO: DATA LOADED FROM SOURCE etcbc4b AND ANNOX lexicon FOR TASK monad_boundaries_input AT 2016-03-10T19-12-49\n"
     ]
    }
   ],
   "source": [
    "API = fabric.load('etcbc4b', '--', 'monad_boundaries_input',\n",
    "{\n",
    "    \"xmlids\" : {\"node\": False, \"edge\" : False},\n",
    "    \"features\" : (\"otype monads book\",\"\"),\n",
    "    \"prepare\" : prepare\n",
    "}\n",
    "           )\n",
    "exec(fabric.localnames.format(var='fabric'))"
   ]
  },
  {
   "cell_type": "code",
   "execution_count": 3,
   "metadata": {
    "collapsed": false
   },
   "outputs": [
    {
     "name": "stderr",
     "output_type": "stream",
     "text": [
      "  5.69s 1682 words added\n"
     ]
    }
   ],
   "source": [
    "corpus = \"Canticum\"\n",
    "cur_book = None\n",
    "nodes = []\n",
    "for n in NN():\n",
    "    otype = F.otype.v(n)\n",
    "    if cur_book == corpus and otype == \"word\":\n",
    "        nodes.append(n)\n",
    "    elif otype == \"book\":\n",
    "        cur_book = F.book.v(n)\n",
    "msg(\"{} words added\".format(len(nodes)))"
   ]
  },
  {
   "cell_type": "markdown",
   "metadata": {},
   "source": [
    "# Masoretic / BHQ"
   ]
  },
  {
   "cell_type": "code",
   "execution_count": 4,
   "metadata": {
    "collapsed": false,
    "scrolled": false
   },
   "outputs": [
    {
     "name": "stdout",
     "output_type": "stream",
     "text": [
      "monad_1: quit\n"
     ]
    },
    {
     "name": "stderr",
     "output_type": "stream",
     "text": [
      "no data present. exiting program."
     ]
    },
    {
     "ename": "NameError",
     "evalue": "name 'filename' is not defined",
     "output_type": "error",
     "traceback": [
      "\u001b[0;31m---------------------------------------------------------------------------\u001b[0m",
      "\u001b[0;31mNameError\u001b[0m                                 Traceback (most recent call last)",
      "\u001b[0;32m<ipython-input-4-8e335948c58a>\u001b[0m in \u001b[0;36m<module>\u001b[0;34m()\u001b[0m\n\u001b[1;32m     96\u001b[0m \u001b[0;34m\u001b[0m\u001b[0m\n\u001b[1;32m     97\u001b[0m \u001b[0msysct\u001b[0m \u001b[0;34m=\u001b[0m \u001b[0;36m0\u001b[0m\u001b[0;34m\u001b[0m\u001b[0m\n\u001b[0;32m---> 98\u001b[0;31m \u001b[0;32mwith\u001b[0m \u001b[0mopen\u001b[0m\u001b[0;34m(\u001b[0m\u001b[0;34m'{}.csv'\u001b[0m\u001b[0;34m.\u001b[0m\u001b[0mformat\u001b[0m\u001b[0;34m(\u001b[0m\u001b[0mfilename\u001b[0m\u001b[0;34m)\u001b[0m\u001b[0;34m,\u001b[0m \u001b[0;34m'w'\u001b[0m\u001b[0;34m)\u001b[0m \u001b[0;32mas\u001b[0m \u001b[0mcsvfile\u001b[0m\u001b[0;34m:\u001b[0m\u001b[0;34m\u001b[0m\u001b[0m\n\u001b[0m\u001b[1;32m     99\u001b[0m     \u001b[0mwriter\u001b[0m \u001b[0;34m=\u001b[0m \u001b[0mcsv\u001b[0m\u001b[0;34m.\u001b[0m\u001b[0mwriter\u001b[0m\u001b[0;34m(\u001b[0m\u001b[0mcsvfile\u001b[0m\u001b[0;34m)\u001b[0m\u001b[0;34m\u001b[0m\u001b[0m\n\u001b[1;32m    100\u001b[0m \u001b[0;34m\u001b[0m\u001b[0m\n",
      "\u001b[0;31mNameError\u001b[0m: name 'filename' is not defined"
     ]
    }
   ],
   "source": [
    "memory = []\n",
    "monad_dict = collections.OrderedDict([])\n",
    "stichometry = []\n",
    "run_program = True\n",
    "save = True\n",
    "\n",
    "while run_program == True:\n",
    "    \n",
    "    #FIRST PROMPT        \n",
    "    on = True\n",
    "    while on == True:\n",
    "        m_1 = input(\"monad_1: \")\n",
    "        \n",
    "        if m_1 == \"quit\":\n",
    "            run_program = False \n",
    "            break\n",
    "        \n",
    "        elif m_1 == \"progress\":\n",
    "            sys.stderr.write(\"{} item(s) stored\".format((len(monad_dict))))\n",
    "            on_1 = False\n",
    "            pass\n",
    "        try:\n",
    "            memory.append(int(m_1))\n",
    "            on = False\n",
    "        except:\n",
    "            if m_1 != \"progress\":\n",
    "                sys.stderr.write(\"integers only!\")\n",
    "            pass\n",
    "    \n",
    "    #SECOND PROMPT\n",
    "    on_1 = True\n",
    "    while on_1 == True and run_program == True:\n",
    "        m_2 = input(\"monad_2: \")\n",
    "        try:\n",
    "            memory.append(int(m_2))\n",
    "            on_1 = False\n",
    "        except:\n",
    "            sys.stderr.write(\"integers only!\")\n",
    "            pass\n",
    "    \n",
    "    #THIRD AND FOURTH PROMPT, STICHOI DATA\n",
    "    on_2 = True\n",
    "    while on_2 == True and run_program == True:\n",
    "        \n",
    "        #prompt 3\n",
    "        while True:\n",
    "            stich = input(\"stich: \")\n",
    "            try:\n",
    "                if ((stich == \"a\") or (stich == \"ab\") or (stich == \"abc\")):\n",
    "                    stich = stich\n",
    "                    break\n",
    "            except:\n",
    "                pass\n",
    "            sys.stderr.write(\"enter a, ab, or abc!\")\n",
    "        \n",
    "        #prompt 4\n",
    "        while True:\n",
    "            accent = input(\"accent: \")\n",
    "            try:\n",
    "                if ((0 <= int(accent) <= 2) or (10 <= int(accent) <= 14) or (20 <= int(accent) <= 24) or (30 <= int(accent) <=35)):\n",
    "                    accent = accent\n",
    "                    break\n",
    "            except:\n",
    "                sys.stderr.write(\"enter accent code only!\")\n",
    "                pass\n",
    "\n",
    "        memory.append(stich)\n",
    "        memory.append(accent)\n",
    "        on_2 = False\n",
    "\n",
    "    try:\n",
    "        monad_dict[memory[0]] = [memory[1], memory[2], memory[3]]\n",
    "        sys.stderr.write(\"[{}-{}, {}, {}] added\".format(memory[0],memory[1], memory[2], memory[3]))\n",
    "        memory = []\n",
    "    except:\n",
    "        if len(monad_dict) == 0:\n",
    "            sys.stderr.write(\"no data present. exiting program.\")\n",
    "            save = False\n",
    "        else:\n",
    "            pass\n",
    "\n",
    "while save == True:\n",
    "    save_prompt = input(\"save file? y/n \")\n",
    "    if save_prompt == \"y\":\n",
    "        break\n",
    "    elif save_prompt == \"n\":\n",
    "        save = False\n",
    "        sys.stderr.write(\"exiting program \\n\")\n",
    "        break\n",
    "    else:\n",
    "        sys.stderr.write(\"y/n?\")\n",
    "        \n",
    "while save == True:\n",
    "    filename = input(\"save as: \")\n",
    "    save = False \n",
    "    \n",
    "sysct = 0   \n",
    "with open('{}.csv'.format(filename), 'w') as csvfile:\n",
    "    writer = csv.writer(csvfile)\n",
    "    \n",
    "    for key in monad_dict:\n",
    "        cur_book = None\n",
    "        for n in nodes:\n",
    "            otype = F.otype.v(n)\n",
    "            mon = F.monads.v(n)\n",
    "            if mon == str(key):\n",
    "                c = L.u('chapter',n)\n",
    "                v = L.u('verse',n)\n",
    "                monad_dict[key].append(\"{}.{}\".format(F.chapter.v(c),F.verse.v(v)))\n",
    "                \n",
    "            elif otype == \"book\":\n",
    "                cur_book = F.book.v(n)\n",
    "                \n",
    "        sysct += 1\n",
    "        writer.writerow([key] + [monad_dict[key][0]] + [monad_dict[key][3]] + [monad_dict[key][1]] + [monad_dict[key][2]])\n",
    "        \n",
    "if save_prompt == \"y\":\n",
    "    sys.stderr.write(\"{} items written to {}.csv\\n\".format(sysct, filename))"
   ]
  },
  {
   "cell_type": "markdown",
   "metadata": {},
   "source": [
    "# Roberts: \"Let Me See Your Form\""
   ]
  },
  {
   "cell_type": "code",
   "execution_count": 6,
   "metadata": {
    "collapsed": false
   },
   "outputs": [
    {
     "name": "stdout",
     "output_type": "stream",
     "text": [
      "monad_1: 359038\n",
      "monad_2: 359042\n",
      "stich: a\n"
     ]
    },
    {
     "name": "stderr",
     "output_type": "stream",
     "text": [
      "[359038-359042, a, --] added"
     ]
    },
    {
     "name": "stdout",
     "output_type": "stream",
     "text": [
      "monad_1: 359043\n",
      "monad_2: 359045\n",
      "stich: b\n"
     ]
    },
    {
     "name": "stderr",
     "output_type": "stream",
     "text": [
      "[359043-359045, b, --] added"
     ]
    },
    {
     "name": "stdout",
     "output_type": "stream",
     "text": [
      "monad_1: 359046\n",
      "monad_2: 359050\n",
      "stich: c\n"
     ]
    },
    {
     "name": "stderr",
     "output_type": "stream",
     "text": [
      "[359046-359050, c, --] added"
     ]
    },
    {
     "name": "stdout",
     "output_type": "stream",
     "text": [
      "monad_1: 359051\n",
      "monad_2: 359054\n",
      "stich: d\n"
     ]
    },
    {
     "name": "stderr",
     "output_type": "stream",
     "text": [
      "[359051-359054, d, --] added"
     ]
    },
    {
     "name": "stdout",
     "output_type": "stream",
     "text": [
      "monad_1: 359055\n",
      "monad_2: 359056\n",
      "stich: a\n"
     ]
    },
    {
     "name": "stderr",
     "output_type": "stream",
     "text": [
      "[359055-359056, a, --] added"
     ]
    },
    {
     "name": "stdout",
     "output_type": "stream",
     "text": [
      "monad_1: 359057\n",
      "monad_2: 359060\n",
      "stich: b\n"
     ]
    },
    {
     "name": "stderr",
     "output_type": "stream",
     "text": [
      "[359057-359060, b, --] added"
     ]
    },
    {
     "name": "stdout",
     "output_type": "stream",
     "text": [
      "monad_1: 359061\n",
      "monad_2: 359065\n",
      "stich: c\n"
     ]
    },
    {
     "name": "stderr",
     "output_type": "stream",
     "text": [
      "[359061-359065, c, --] added"
     ]
    },
    {
     "name": "stdout",
     "output_type": "stream",
     "text": [
      "monad_1: 359066\n",
      "monad_2: 359068\n",
      "stich: d\n"
     ]
    },
    {
     "name": "stderr",
     "output_type": "stream",
     "text": [
      "[359066-359068, d, --] added"
     ]
    },
    {
     "name": "stdout",
     "output_type": "stream",
     "text": [
      "monad_1: 359069\n",
      "monad_2: 359071\n",
      "stich: a\n"
     ]
    },
    {
     "name": "stderr",
     "output_type": "stream",
     "text": [
      "[359069-359071, a, --] added"
     ]
    },
    {
     "name": "stdout",
     "output_type": "stream",
     "text": [
      "monad_1: 359072\n",
      "monad_2: 359074\n",
      "stich: b\n"
     ]
    },
    {
     "name": "stderr",
     "output_type": "stream",
     "text": [
      "[359072-359074, b, --] added"
     ]
    },
    {
     "name": "stdout",
     "output_type": "stream",
     "text": [
      "monad_1: 359075\n",
      "monad_2: 359076\n",
      "stich: a\n"
     ]
    },
    {
     "name": "stderr",
     "output_type": "stream",
     "text": [
      "[359075-359076, a, --] added"
     ]
    },
    {
     "name": "stdout",
     "output_type": "stream",
     "text": [
      "monad_1: 359077\n",
      "monad_2: 359078\n",
      "stich: b\n"
     ]
    },
    {
     "name": "stderr",
     "output_type": "stream",
     "text": [
      "[359077-359078, b, --] added"
     ]
    },
    {
     "name": "stdout",
     "output_type": "stream",
     "text": [
      "monad_1: 359079\n",
      "monad_2: 359086\n",
      "stich: c\n"
     ]
    },
    {
     "name": "stderr",
     "output_type": "stream",
     "text": [
      "[359079-359086, c, --] added"
     ]
    },
    {
     "name": "stdout",
     "output_type": "stream",
     "text": [
      "monad_1: 359087\n",
      "monad_2: 359089\n",
      "stich: d\n"
     ]
    },
    {
     "name": "stderr",
     "output_type": "stream",
     "text": [
      "[359087-359089, d, --] added"
     ]
    },
    {
     "name": "stdout",
     "output_type": "stream",
     "text": [
      "monad_1: 359090\n",
      "monad_2: 359095\n",
      "stich: a\n"
     ]
    },
    {
     "name": "stderr",
     "output_type": "stream",
     "text": [
      "[359090-359095, a, --] added"
     ]
    },
    {
     "name": "stdout",
     "output_type": "stream",
     "text": [
      "monad_1: 359096\n",
      "monad_2: 359098\n",
      "stich: b\n"
     ]
    },
    {
     "name": "stderr",
     "output_type": "stream",
     "text": [
      "[359096-359098, b, --] added"
     ]
    },
    {
     "name": "stdout",
     "output_type": "stream",
     "text": [
      "monad_1: 359099\n",
      "monad_2: 359102\n",
      "stich: c\n"
     ]
    },
    {
     "name": "stderr",
     "output_type": "stream",
     "text": [
      "[359099-359102, c, --] added"
     ]
    },
    {
     "name": "stdout",
     "output_type": "stream",
     "text": [
      "monad_1: 359103\n",
      "monad_2: 359105\n",
      "stich: d\n"
     ]
    },
    {
     "name": "stderr",
     "output_type": "stream",
     "text": [
      "[359103-359105, d, --] added"
     ]
    },
    {
     "name": "stdout",
     "output_type": "stream",
     "text": [
      "monad_1: 359106\n",
      "monad_2: 359108\n",
      "stich: e\n"
     ]
    },
    {
     "name": "stderr",
     "output_type": "stream",
     "text": [
      "[359106-359108, e, --] added"
     ]
    },
    {
     "name": "stdout",
     "output_type": "stream",
     "text": [
      "monad_1: 359109\n",
      "monad_2: 359114\n",
      "stich: a\n"
     ]
    },
    {
     "name": "stderr",
     "output_type": "stream",
     "text": [
      "[359109-359114, a, --] added"
     ]
    },
    {
     "name": "stdout",
     "output_type": "stream",
     "text": [
      "monad_1: 359115\n",
      "monad_2: 359119\n",
      "stich: b\n"
     ]
    },
    {
     "name": "stderr",
     "output_type": "stream",
     "text": [
      "[359115-359119, b, --] added"
     ]
    },
    {
     "name": "stdout",
     "output_type": "stream",
     "text": [
      "monad_1: 359120\n",
      "monad_2: 359125\n",
      "stich: c\n"
     ]
    },
    {
     "name": "stderr",
     "output_type": "stream",
     "text": [
      "[359120-359125, c, --] added"
     ]
    },
    {
     "name": "stdout",
     "output_type": "stream",
     "text": [
      "monad_1: 359126\n",
      "monad_2: 359129\n",
      "stich: d\n"
     ]
    },
    {
     "name": "stderr",
     "output_type": "stream",
     "text": [
      "[359126-359129, d, --] added"
     ]
    },
    {
     "name": "stdout",
     "output_type": "stream",
     "text": [
      "monad_1: 359130\n",
      "monad_2: 359132\n",
      "stich: e\n"
     ]
    },
    {
     "name": "stderr",
     "output_type": "stream",
     "text": [
      "[359130-359132, e, --] added"
     ]
    },
    {
     "name": "stdout",
     "output_type": "stream",
     "text": [
      "monad_1: 359133\n",
      "monad_2: 359133\n",
      "stich: f\n"
     ]
    },
    {
     "name": "stderr",
     "output_type": "stream",
     "text": [
      "[359133-359133, f, --] added"
     ]
    },
    {
     "name": "stdout",
     "output_type": "stream",
     "text": [
      "monad_1: 359134\n",
      "monad_2: 359146\n",
      "stich: A\n"
     ]
    },
    {
     "name": "stderr",
     "output_type": "stream",
     "text": [
      "[359134-359146, A, --] added"
     ]
    },
    {
     "name": "stdout",
     "output_type": "stream",
     "text": [
      "monad_1: 359147\n",
      "monad_2: 359159\n",
      "stich: B\n"
     ]
    },
    {
     "name": "stderr",
     "output_type": "stream",
     "text": [
      "[359147-359159, B, --] added"
     ]
    },
    {
     "name": "stdout",
     "output_type": "stream",
     "text": [
      "monad_1: 359160\n",
      "monad_2: 359162\n",
      "stich: a\n"
     ]
    },
    {
     "name": "stderr",
     "output_type": "stream",
     "text": [
      "[359160-359162, a, --] added"
     ]
    },
    {
     "name": "stdout",
     "output_type": "stream",
     "text": [
      "monad_1: 359163\n",
      "monad_2: 359166\n",
      "stich: b\n"
     ]
    },
    {
     "name": "stderr",
     "output_type": "stream",
     "text": [
      "[359163-359166, b, --] added"
     ]
    },
    {
     "name": "stdout",
     "output_type": "stream",
     "text": [
      "monad_1: 359167\n",
      "monad_2: 359170\n",
      "stich: c\n"
     ]
    },
    {
     "name": "stderr",
     "output_type": "stream",
     "text": [
      "[359167-359170, c, --] added"
     ]
    },
    {
     "name": "stdout",
     "output_type": "stream",
     "text": [
      "monad_1: 359171\n",
      "monad_2: 359176\n",
      "stich: d\n"
     ]
    },
    {
     "name": "stderr",
     "output_type": "stream",
     "text": [
      "[359171-359176, d, --] added"
     ]
    },
    {
     "name": "stdout",
     "output_type": "stream",
     "text": [
      "monad_1: 359177\n",
      "monad_2: 359179\n",
      "stich: a\n"
     ]
    },
    {
     "name": "stderr",
     "output_type": "stream",
     "text": [
      "[359177-359179, a, --] added"
     ]
    },
    {
     "name": "stdout",
     "output_type": "stream",
     "text": [
      "monad_1: 359180\n",
      "monad_2: 359183\n",
      "stich: b\n"
     ]
    },
    {
     "name": "stderr",
     "output_type": "stream",
     "text": [
      "[359180-359183, b, --] added"
     ]
    },
    {
     "name": "stdout",
     "output_type": "stream",
     "text": [
      "monad_1: 359184\n",
      "monad_2: 359187\n",
      "stich: c\n"
     ]
    },
    {
     "name": "stderr",
     "output_type": "stream",
     "text": [
      "[359184-359187, c, --] added"
     ]
    },
    {
     "name": "stdout",
     "output_type": "stream",
     "text": [
      "monad_1: 359188\n",
      "monad_2: 359191\n",
      "stich: d\n"
     ]
    },
    {
     "name": "stderr",
     "output_type": "stream",
     "text": [
      "[359188-359191, d, --] added"
     ]
    },
    {
     "name": "stdout",
     "output_type": "stream",
     "text": [
      "monad_1: 359192\n",
      "monad_2: 359193\n",
      "stich: a\n"
     ]
    },
    {
     "name": "stderr",
     "output_type": "stream",
     "text": [
      "[359192-359193, a, --] added"
     ]
    },
    {
     "name": "stdout",
     "output_type": "stream",
     "text": [
      "monad_1: 359194\n",
      "monad_2: 359198\n",
      "stich: b\n"
     ]
    },
    {
     "name": "stderr",
     "output_type": "stream",
     "text": [
      "[359194-359198, b, --] added"
     ]
    },
    {
     "name": "stdout",
     "output_type": "stream",
     "text": [
      "monad_1: 359199\n",
      "monad_2: 359202\n",
      "stich: c\n"
     ]
    },
    {
     "name": "stderr",
     "output_type": "stream",
     "text": [
      "[359199-359202, c, --] added"
     ]
    },
    {
     "name": "stdout",
     "output_type": "stream",
     "text": [
      "monad_1: 359203\n",
      "monad_2: 359205\n",
      "stich: d\n"
     ]
    },
    {
     "name": "stderr",
     "output_type": "stream",
     "text": [
      "[359203-359205, d, --] added"
     ]
    },
    {
     "name": "stdout",
     "output_type": "stream",
     "text": [
      "monad_1: 359206\n",
      "monad_2: 359211\n",
      "stich: a\n"
     ]
    },
    {
     "name": "stderr",
     "output_type": "stream",
     "text": [
      "[359206-359211, a, --] added"
     ]
    },
    {
     "name": "stdout",
     "output_type": "stream",
     "text": [
      "monad_1: 359212\n",
      "monad_2: 359218\n",
      "stich: b\n"
     ]
    },
    {
     "name": "stderr",
     "output_type": "stream",
     "text": [
      "[359212-359218, b, --] added"
     ]
    },
    {
     "name": "stdout",
     "output_type": "stream",
     "text": [
      "monad_1: 359219\n",
      "monad_2: 359224\n",
      "stich: c\n"
     ]
    },
    {
     "name": "stderr",
     "output_type": "stream",
     "text": [
      "[359219-359224, c, --] added"
     ]
    },
    {
     "name": "stdout",
     "output_type": "stream",
     "text": [
      "monad_1: 359225\n",
      "monad_2: 359229\n",
      "stich: a\n"
     ]
    },
    {
     "name": "stderr",
     "output_type": "stream",
     "text": [
      "[359225-359229, a, --] added"
     ]
    },
    {
     "name": "stdout",
     "output_type": "stream",
     "text": [
      "monad_1: 359230\n",
      "monad_2: 359233\n",
      "stich: b\n"
     ]
    },
    {
     "name": "stderr",
     "output_type": "stream",
     "text": [
      "[359230-359233, b, --] added"
     ]
    },
    {
     "name": "stdout",
     "output_type": "stream",
     "text": [
      "monad_1: 359234\n",
      "monad_2: 359239\n",
      "stich: c\n"
     ]
    },
    {
     "name": "stderr",
     "output_type": "stream",
     "text": [
      "[359234-359239, c, --] added"
     ]
    },
    {
     "name": "stdout",
     "output_type": "stream",
     "text": [
      "monad_1: 359240\n",
      "monad_2: 359244\n",
      "stich: a\n"
     ]
    },
    {
     "name": "stderr",
     "output_type": "stream",
     "text": [
      "[359240-359244, a, --] added"
     ]
    },
    {
     "name": "stdout",
     "output_type": "stream",
     "text": [
      "monad_1: 359245\n",
      "monad_2: 359246\n",
      "stich: b\n"
     ]
    },
    {
     "name": "stderr",
     "output_type": "stream",
     "text": [
      "[359245-359246, b, --] added"
     ]
    },
    {
     "name": "stdout",
     "output_type": "stream",
     "text": [
      "monad_1: 359247\n",
      "monad_2: 359249\n",
      "stich: c\n"
     ]
    },
    {
     "name": "stderr",
     "output_type": "stream",
     "text": [
      "[359247-359249, c, --] added"
     ]
    },
    {
     "name": "stdout",
     "output_type": "stream",
     "text": [
      "monad_1: 359250\n",
      "monad_2: 359251\n",
      "stich: a\n"
     ]
    },
    {
     "name": "stderr",
     "output_type": "stream",
     "text": [
      "[359250-359251, a, --] added"
     ]
    },
    {
     "name": "stdout",
     "output_type": "stream",
     "text": [
      "monad_1: 359252\n",
      "monad_2: 359256\n",
      "stich: b\n"
     ]
    },
    {
     "name": "stderr",
     "output_type": "stream",
     "text": [
      "[359252-359256, b, --] added"
     ]
    },
    {
     "name": "stdout",
     "output_type": "stream",
     "text": [
      "monad_1: 359257\n",
      "monad_2: 359261\n",
      "stich: c\n"
     ]
    },
    {
     "name": "stderr",
     "output_type": "stream",
     "text": [
      "[359257-359261, c, --] added"
     ]
    },
    {
     "name": "stdout",
     "output_type": "stream",
     "text": [
      "monad_1: 359262\n",
      "monad_2: 359264\n",
      "stich: d\n"
     ]
    },
    {
     "name": "stderr",
     "output_type": "stream",
     "text": [
      "[359262-359264, d, --] added"
     ]
    },
    {
     "name": "stdout",
     "output_type": "stream",
     "text": [
      "monad_1: quit\n",
      "save file? y/n y\n",
      "save as: ROBchapter_8\n"
     ]
    },
    {
     "name": "stderr",
     "output_type": "stream",
     "text": [
      "52 items written to ROBchapter_8.csv\n"
     ]
    }
   ],
   "source": [
    "memory = []\n",
    "monad_dict = collections.OrderedDict([])\n",
    "stichometry = []\n",
    "run_program = True\n",
    "save = True\n",
    "\n",
    "while run_program == True:\n",
    "    \n",
    "    #FIRST PROMPT        \n",
    "    on = True\n",
    "    while on == True:\n",
    "        m_1 = input(\"monad_1: \")\n",
    "        \n",
    "        if m_1 == \"quit\":\n",
    "            run_program = False \n",
    "            break\n",
    "        \n",
    "        elif m_1 == \"progress\":\n",
    "            sys.stderr.write(\"{} item(s) stored\".format((len(monad_dict))))\n",
    "            on_1 = False\n",
    "            pass\n",
    "        try:\n",
    "            memory.append(int(m_1))\n",
    "            on = False\n",
    "        except:\n",
    "            if m_1 != \"progress\":\n",
    "                sys.stderr.write(\"integers only!\")\n",
    "            pass\n",
    "    \n",
    "    #SECOND PROMPT\n",
    "    on_1 = True\n",
    "    while on_1 == True and run_program == True:\n",
    "        m_2 = input(\"monad_2: \")\n",
    "        try:\n",
    "            memory.append(int(m_2))\n",
    "            on_1 = False\n",
    "        except:\n",
    "            sys.stderr.write(\"integers only!\")\n",
    "            pass\n",
    "    \n",
    "    #THIRD AND FOURTH PROMPT, STICHOI DATA\n",
    "    on_2 = True\n",
    "    while on_2 == True and run_program == True:\n",
    "        \n",
    "        #prompt 3\n",
    "        while True:\n",
    "            stich = input(\"stich: \")\n",
    "            break\n",
    "\n",
    "        memory.append(stich)\n",
    "        memory.append(\"--\")\n",
    "        on_2 = False\n",
    "\n",
    "    try:\n",
    "        monad_dict[memory[0]] = [memory[1], memory[2], memory[3]]\n",
    "        sys.stderr.write(\"[{}-{}, {}, {}] added\".format(memory[0],memory[1], memory[2], memory[3]))\n",
    "        memory = []\n",
    "    except:\n",
    "        if len(monad_dict) == 0:\n",
    "            sys.stderr.write(\"no data present. exiting program.\")\n",
    "            save = False\n",
    "        else:\n",
    "            pass\n",
    "\n",
    "while save == True:\n",
    "    save_prompt = input(\"save file? y/n \")\n",
    "    if save_prompt == \"y\":\n",
    "        break\n",
    "    elif save_prompt == \"n\":\n",
    "        save = False\n",
    "        sys.stderr.write(\"exiting program \\n\")\n",
    "        break\n",
    "    else:\n",
    "        sys.stderr.write(\"y/n?\")\n",
    "        \n",
    "while save == True:\n",
    "    filename = input(\"save as: \")\n",
    "    save = False \n",
    "    \n",
    "sysct = 0   \n",
    "with open('{}.csv'.format(filename), 'w') as csvfile:\n",
    "    writer = csv.writer(csvfile)\n",
    "    \n",
    "    for key in monad_dict:\n",
    "            \n",
    "        for n in nodes:\n",
    "            otype = F.otype.v(n)\n",
    "            if F.monads.v(n) == str(key) and otype == \"word\":\n",
    "                c = L.u('chapter',n)\n",
    "                v = L.u('verse',n)\n",
    "                monad_dict[key].append(\"{}.{}\".format(F.chapter.v(c),F.verse.v(v)))\n",
    "        sysct += 1\n",
    "        writer.writerow([key] + [monad_dict[key][0]] + [monad_dict[key][3]] + [monad_dict[key][1]] + [monad_dict[key][2]])\n",
    "        \n",
    "if save_prompt == \"y\":\n",
    "    sys.stderr.write(\"{} items written to {}.csv\\n\".format(sysct, filename))"
   ]
  },
  {
   "cell_type": "code",
   "execution_count": null,
   "metadata": {
    "collapsed": true
   },
   "outputs": [],
   "source": []
  }
 ],
 "metadata": {
  "kernelspec": {
   "display_name": "Python 3",
   "language": "python",
   "name": "python3"
  },
  "language_info": {
   "codemirror_mode": {
    "name": "ipython",
    "version": 3
   },
   "file_extension": ".py",
   "mimetype": "text/x-python",
   "name": "python",
   "nbconvert_exporter": "python",
   "pygments_lexer": "ipython3",
   "version": "3.5.1"
  }
 },
 "nbformat": 4,
 "nbformat_minor": 0
}
