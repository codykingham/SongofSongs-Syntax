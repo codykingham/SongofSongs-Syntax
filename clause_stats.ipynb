{
 "cells": [
  {
   "cell_type": "code",
   "execution_count": 26,
   "metadata": {
    "collapsed": false
   },
   "outputs": [
    {
     "name": "stderr",
     "output_type": "stream",
     "text": [
      "  0.00s This is LAF-Fabric 4.5.21\n",
      "API reference: http://laf-fabric.readthedocs.org/en/latest/texts/API-reference.html\n",
      "Feature doc: https://shebanq.ancient-data.org/static/docs/featuredoc/texts/welcome.html\n",
      "\n"
     ]
    }
   ],
   "source": [
    "import sys\n",
    "import collections\n",
    "\n",
    "from laf.fabric import LafFabric\n",
    "from etcbc.preprocess import prepare\n",
    "fabric = LafFabric(verbose = '')"
   ]
  },
  {
   "cell_type": "code",
   "execution_count": 27,
   "metadata": {
    "collapsed": false
   },
   "outputs": [
    {
     "name": "stderr",
     "output_type": "stream",
     "text": [
      "  0.00s LOADING API: please wait ... \n",
      "  0.01s USING main  DATA COMPILED AT: 2015-11-02T15-08-56\n",
      "  4.12s LOGFILE=/Users/Cody/laf-fabric-output/etcbc4b/clause_stats/__log__clause_stats.txt\n",
      "  4.12s INFO: LOADING PREPARED data: please wait ... \n",
      "  4.12s prep prep: G.node_sort\n",
      "  4.25s prep prep: G.node_sort_inv\n",
      "  5.02s prep prep: L.node_up\n",
      "  9.23s prep prep: L.node_down\n",
      "    18s prep prep: V.verses\n",
      "    18s prep prep: V.books_la\n",
      "    18s ETCBC reference: http://laf-fabric.readthedocs.org/en/latest/texts/ETCBC-reference.html\n",
      "    22s INFO: LOADED PREPARED data\n",
      "    22s INFO: DATA LOADED FROM SOURCE etcbc4b AND ANNOX lexicon FOR TASK clause_stats AT 2016-03-30T00-20-03\n"
     ]
    }
   ],
   "source": [
    "API = fabric.load('etcbc4b','--','clause_stats',\n",
    "\n",
    "                  {'primary': False,\n",
    "                   'xmlids':{'node':False,'edge':False},\n",
    "                   'features':('book chapter verse otype code typ txt monads',''),\n",
    "                   'prepare': prepare\n",
    "        \n",
    "                    }\n",
    ")\n",
    "exec(fabric.localnames.format(var='fabric'))"
   ]
  },
  {
   "cell_type": "markdown",
   "metadata": {},
   "source": [
    "# Song Clause Statistics"
   ]
  },
  {
   "cell_type": "code",
   "execution_count": 28,
   "metadata": {
    "collapsed": true
   },
   "outputs": [],
   "source": [
    "def get_ref(ref_type,node):\n",
    "    if ref_type == 'verse':\n",
    "        verse = L.u('verse',node)\n",
    "        return F.verse.v(verse)\n",
    "    elif ref_type == 'chapter':\n",
    "        chapter = L.u('chapter',node)\n",
    "        return F.chapter.v(chapter)\n",
    "    elif ref_type == 'book':\n",
    "        book = L.u('book',node)\n",
    "        return F.book.v(book)"
   ]
  },
  {
   "cell_type": "code",
   "execution_count": 29,
   "metadata": {
    "collapsed": false
   },
   "outputs": [],
   "source": [
    "def get_percent(total,freq):\n",
    "    return str((float(freq / total)*100))+'%'"
   ]
  },
  {
   "cell_type": "code",
   "execution_count": 30,
   "metadata": {
    "collapsed": true
   },
   "outputs": [],
   "source": [
    "#provides a function to filter out only the mainline clause types\n",
    "#for this search, mainline is defined as asyndetic, parallel, coordinate with w or )w and direct speech (999)\n",
    "\n",
    "def code_filter(node):\n",
    "    \n",
    "    code = int(F.code.v(node))\n",
    "    \n",
    "    #asyndetic\n",
    "\n",
    "    if 100 <= code <= 167:\n",
    "        return True\n",
    "    \n",
    "    #parallel\n",
    "    elif 200 <= code <= 201:\n",
    "        return True\n",
    "    \n",
    "    #asyndetic with conj.\n",
    "    elif 300 <= code <= 367:\n",
    "        return True\n",
    "    \n",
    "    #syndetic\n",
    "    elif 400 <= code <= 487:\n",
    "        return True\n",
    "    \n",
    "    #first cl in direct speech\n",
    "    elif code == 999:\n",
    "        return True"
   ]
  },
  {
   "cell_type": "code",
   "execution_count": 31,
   "metadata": {
    "collapsed": false
   },
   "outputs": [
    {
     "name": "stderr",
     "output_type": "stream",
     "text": [
      "  6.87s 6020 nodes appended\n"
     ]
    }
   ],
   "source": [
    "#indexes all nodes in corpus for faster searches\n",
    "\n",
    "corpus = [\"Canticum\"]\n",
    "\n",
    "cur_book = None\n",
    "nodes = []\n",
    "\n",
    "for n in NN():\n",
    "    if cur_book in corpus:\n",
    "        nodes.append(n)\n",
    "    \n",
    "    if F.otype.v(n) == 'book':\n",
    "        cur_book = F.book.v(n)\n",
    "        \n",
    "msg('{} nodes appended'.format(len(nodes)))"
   ]
  },
  {
   "cell_type": "code",
   "execution_count": 36,
   "metadata": {
    "collapsed": false
   },
   "outputs": [
    {
     "name": "stderr",
     "output_type": "stream",
     "text": [
      "    53s 389 appended\n"
     ]
    }
   ],
   "source": [
    "raw_clauses = []\n",
    "\n",
    "for n in nodes:\n",
    "    otype = F.otype.v(n)\n",
    "    if otype == 'clause_atom':\n",
    "        if code_filter(n) == True:\n",
    "            raw_clauses.append(F.typ.v(L.u('clause',n)))\n",
    "\n",
    "msg(str(len(raw_clauses))+' appended')"
   ]
  },
  {
   "cell_type": "code",
   "execution_count": 54,
   "metadata": {
    "collapsed": false
   },
   "outputs": [
    {
     "name": "stdout",
     "output_type": "stream",
     "text": [
      "WXYq 3\n",
      "XYqt 2\n",
      "fronted: 5\n",
      "fronted: 8.771929824561402%\n"
     ]
    }
   ],
   "source": [
    "import re\n",
    "\n",
    "stats_dict = collections.OrderedDict()\n",
    "\n",
    "for clause in raw_clauses:\n",
    "    if clause not in stats_dict:\n",
    "        stats_dict[clause] = 1\n",
    "    else:\n",
    "        stats_dict[clause] += 1\n",
    "        \n",
    "stats_dict = collections.OrderedDict(sorted(stats_dict.items(),key=lambda t: t[1],reverse = True))\n",
    "\n",
    "total = 0\n",
    "total2 = 0\n",
    "\n",
    "for item in stats_dict:\n",
    "    \n",
    "    get_item = re.findall('Y',item,0)\n",
    "    if len(get_item) != 0:\n",
    "        total += stats_dict[item]\n",
    "        \n",
    "    get_item2 = re.findall('XY',item,0)\n",
    "    if len(get_item2) != 0:\n",
    "        print (item,stats_dict[item])\n",
    "        total2 += stats_dict[item]\n",
    "        1\n",
    "print('fronted: {}'.format(total2))      \n",
    "print('fronted: {}'.format(get_percent(total,total2)))"
   ]
  },
  {
   "cell_type": "code",
   "execution_count": null,
   "metadata": {
    "collapsed": true
   },
   "outputs": [],
   "source": [
    "simplified = {'way' : [\"Way0\", \"WayX\"],\n",
    "        'nmcl' : [\"NmCl\",\"AjCl\"],\n",
    "        'ptc' : [\"Ptcp\"],\n",
    "        'qtl' : [\"WQt0\", \"WQtX\", \"WxQ0\", \"WXQt\", \"WxQX\", \"xQt0\", \"XQtl\", \"xQtX\", \"ZQt0\", \"ZQtX\"],\n",
    "        'yqtl' : [\"WxY0\", \"WXYq\", \"WxYX\", \"WYq0\", \"WYqX\", \"xYq0\", \"XYqt\", \"xYqX\", \"ZYq0\", \"ZYqX\"],\n",
    "        'impv' : [\"WIm0\",\"WImX\", \"WxI0\", \"WXIm\", \"WxIX\", \"xIm0\", \"XImp\", \"xImX\", \"ZIm0\", \"ZImX\"],\n",
    "        }"
   ]
  },
  {
   "cell_type": "code",
   "execution_count": 334,
   "metadata": {
    "collapsed": false
   },
   "outputs": [],
   "source": [
    "Song_Clauses = []\n",
    "for clause in raw_clauses:\n",
    "    for key in simplified:\n",
    "        if clause in simplified[key]:\n",
    "            Song_Clauses.append(key)"
   ]
  },
  {
   "cell_type": "code",
   "execution_count": 335,
   "metadata": {
    "collapsed": false
   },
   "outputs": [],
   "source": [
    "clause_count = {}\n",
    "total = 0\n",
    "\n",
    "for clause in Song_Clauses:\n",
    "    total += 1\n",
    "    if clause not in clause_count:\n",
    "        clause_count[clause] = 1\n",
    "    elif clause in clause_count:\n",
    "        clause_count[clause] += 1"
   ]
  },
  {
   "cell_type": "code",
   "execution_count": 336,
   "metadata": {
    "collapsed": false
   },
   "outputs": [
    {
     "name": "stdout",
     "output_type": "stream",
     "text": [
      "328\n",
      "qtl   84   25.609756097560975%\n",
      "impv  33   10.060975609756099%\n",
      "way    2   0.6097560975609756%\n",
      "nmcl 120   36.58536585365854%\n",
      "ptc   32   9.75609756097561%\n",
      "yqtl  57   17.378048780487802%\n"
     ]
    }
   ],
   "source": [
    "print (total)\n",
    "for key in clause_count:\n",
    "    print ('{:4}{:4}   {}'.format(key, clause_count[key],get_percent(total,clause_count[key])))"
   ]
  },
  {
   "cell_type": "markdown",
   "metadata": {},
   "source": [
    "# Ancient Poetry Clause Statistics"
   ]
  },
  {
   "cell_type": "code",
   "execution_count": 337,
   "metadata": {
    "collapsed": false
   },
   "outputs": [
    {
     "name": "stderr",
     "output_type": "stream",
     "text": [
      "    19s 9523 nodes appended\n"
     ]
    }
   ],
   "source": [
    "#indexes all nodes in corpus for faster searches\n",
    "\n",
    "corpus = {'Genesis_49':[str(x) for x in range (1,28)],\n",
    "          'Exodus_15':[str(x) for x in range (1,22)],\n",
    "          'Numeri_23':[str(x) for x in range (7,11)]+[str(x) for x in range (18,25)],\n",
    "          'Numeri_24':[str(x) for x in range (3,10)]+[str(x) for x in range (15,25)],\n",
    "          'Deuteronomium_32':[str(x) for x in range (1,44)],\n",
    "          'Deuteronomium_33':[str(x) for x in range (2,30)],\n",
    "          'Judices_5':[str(x) for x in range (2,32)]\n",
    "         }\n",
    "\n",
    "cur_book = None\n",
    "nodes = []\n",
    "\n",
    "for n in NN():\n",
    "    chapter = get_ref('chapter',n)\n",
    "    verse = get_ref('verse',n)\n",
    "    if ('{}_{}'.format(cur_book,chapter) in corpus) and verse in corpus['{}_{}'.format(cur_book,chapter)]:\n",
    "        nodes.append(n)\n",
    "    \n",
    "    if F.otype.v(n) == 'book':\n",
    "        cur_book = F.book.v(n)\n",
    "        \n",
    "msg('{} nodes appended'.format(len(nodes)))"
   ]
  },
  {
   "cell_type": "code",
   "execution_count": 338,
   "metadata": {
    "collapsed": true
   },
   "outputs": [],
   "source": [
    "def check_narr(n):\n",
    "    clause = L.u('clause',n)\n",
    "    if F.txt.v(clause) != 'N':\n",
    "        return True"
   ]
  },
  {
   "cell_type": "code",
   "execution_count": 339,
   "metadata": {
    "collapsed": false
   },
   "outputs": [
    {
     "name": "stderr",
     "output_type": "stream",
     "text": [
      "    21s 606 appended\n"
     ]
    }
   ],
   "source": [
    "raw_clauses = []\n",
    "\n",
    "for n in nodes:\n",
    "    otype = F.otype.v(n)\n",
    "    if otype == 'clause_atom':\n",
    "        if code_filter(n) == True and check_narr(n) == True:\n",
    "            raw_clauses.append(F.typ.v(n))\n",
    "\n",
    "msg(str(len(raw_clauses))+' appended')\n"
   ]
  },
  {
   "cell_type": "code",
   "execution_count": 340,
   "metadata": {
    "collapsed": true
   },
   "outputs": [],
   "source": [
    "poetry_clauses = []\n",
    "for clause in raw_clauses:\n",
    "    for key in simplified:\n",
    "        if clause in simplified[key]:\n",
    "            poetry_clauses.append(key)"
   ]
  },
  {
   "cell_type": "code",
   "execution_count": 341,
   "metadata": {
    "collapsed": true
   },
   "outputs": [],
   "source": [
    "clause_count = {}\n",
    "total = 0\n",
    "\n",
    "for clause in poetry_clauses:\n",
    "    total += 1\n",
    "    if clause not in clause_count:\n",
    "        clause_count[clause] = 1\n",
    "    elif clause in clause_count:\n",
    "        clause_count[clause] += 1"
   ]
  },
  {
   "cell_type": "code",
   "execution_count": 342,
   "metadata": {
    "collapsed": false
   },
   "outputs": [
    {
     "name": "stdout",
     "output_type": "stream",
     "text": [
      "519\n",
      "qtl  132   25.43352601156069%\n",
      "impv  38   7.321772639691715%\n",
      "way   34   6.551059730250482%\n",
      "nmcl 119   22.928709055876688%\n",
      "ptc   30   5.780346820809249%\n",
      "yqtl 166   31.984585741811177%\n"
     ]
    }
   ],
   "source": [
    "print (total)\n",
    "for key in clause_count:\n",
    "    print ('{:4}{:4}   {}'.format(key, clause_count[key],get_percent(total,clause_count[key])))"
   ]
  },
  {
   "cell_type": "markdown",
   "metadata": {},
   "source": [
    "# Psalms Statistics"
   ]
  },
  {
   "cell_type": "code",
   "execution_count": 343,
   "metadata": {
    "collapsed": false
   },
   "outputs": [
    {
     "name": "stderr",
     "output_type": "stream",
     "text": [
      "    26s 99028 nodes appended\n"
     ]
    }
   ],
   "source": [
    "#indexes all nodes in corpus for faster searches\n",
    "\n",
    "corpus = [\"Psalmi\"]\n",
    "\n",
    "cur_book = None\n",
    "nodes = []\n",
    "\n",
    "for n in NN():\n",
    "    if cur_book in corpus:\n",
    "        nodes.append(n)\n",
    "    \n",
    "    if F.otype.v(n) == 'book':\n",
    "        cur_book = F.book.v(n)\n",
    "        \n",
    "msg('{} nodes appended'.format(len(nodes)))"
   ]
  },
  {
   "cell_type": "code",
   "execution_count": 344,
   "metadata": {
    "collapsed": false
   },
   "outputs": [
    {
     "name": "stderr",
     "output_type": "stream",
     "text": [
      "    28s 6157 appended\n"
     ]
    }
   ],
   "source": [
    "raw_clauses = []\n",
    "\n",
    "for n in nodes:\n",
    "    otype = F.otype.v(n)\n",
    "    if otype == 'clause_atom':\n",
    "        if code_filter(n) == True:\n",
    "            raw_clauses.append(F.typ.v(n))\n",
    "\n",
    "msg(str(len(raw_clauses))+' appended')"
   ]
  },
  {
   "cell_type": "code",
   "execution_count": 345,
   "metadata": {
    "collapsed": true
   },
   "outputs": [],
   "source": [
    "Psalm_Clauses = []\n",
    "for clause in raw_clauses:\n",
    "    for key in simplified:\n",
    "        if clause in simplified[key]:\n",
    "            Psalm_Clauses.append(key)"
   ]
  },
  {
   "cell_type": "code",
   "execution_count": 346,
   "metadata": {
    "collapsed": true
   },
   "outputs": [],
   "source": [
    "clause_count = {}\n",
    "total = 0\n",
    "\n",
    "for clause in Psalm_Clauses:\n",
    "    total += 1\n",
    "    if clause not in clause_count:\n",
    "        clause_count[clause] = 1\n",
    "    elif clause in clause_count:\n",
    "        clause_count[clause] += 1"
   ]
  },
  {
   "cell_type": "code",
   "execution_count": 347,
   "metadata": {
    "collapsed": false
   },
   "outputs": [
    {
     "name": "stdout",
     "output_type": "stream",
     "text": [
      "5143\n",
      "qtl 1149   22.341046082053275%\n",
      "impv 670   13.027415905113745%\n",
      "way  333   6.474820143884892%\n",
      "nmcl 800   15.555123468792534%\n",
      "ptc  331   6.435932335212911%\n",
      "yqtl1860   36.16566206494264%\n"
     ]
    }
   ],
   "source": [
    "print (total)\n",
    "for key in clause_count:\n",
    "    print ('{:4}{:4}   {}'.format(key, clause_count[key],get_percent(total,clause_count[key])))"
   ]
  },
  {
   "cell_type": "markdown",
   "metadata": {},
   "source": [
    "# Chapter by Chapter"
   ]
  },
  {
   "cell_type": "markdown",
   "metadata": {},
   "source": [
    "Is there a chapter in the Hebrew Bible that resembles the Song of Songs clause statistics? \n",
    "\n",
    "<p>way  -   0.61%</p>\n",
    "<p>yqtl  - 17.38%</p>\n",
    "<p>nmcl -  46.34%</p>\n",
    "<p>impv -  10.06%</p>\n",
    "<p>qtl  -  25.61%</p>"
   ]
  },
  {
   "cell_type": "code",
   "execution_count": 395,
   "metadata": {
    "collapsed": false
   },
   "outputs": [
    {
     "name": "stderr",
     "output_type": "stream",
     "text": [
      "27m 22s 929 chapters logged\n"
     ]
    }
   ],
   "source": [
    "cur_book = None\n",
    "cur_chapter = None\n",
    "chapter_check = None\n",
    "book_check = None\n",
    "\n",
    "raw_clauses = []\n",
    "stats = {'total':0}\n",
    "results = collections.OrderedDict([])\n",
    "\n",
    "def chron(n):\n",
    "    if n == 605132:\n",
    "        return True\n",
    "    \n",
    "def amos(n):\n",
    "    if get_ref('book',n) == 'Obadia' and book_check == 'Amos':\n",
    "        return True\n",
    "    \n",
    "for n in NN():\n",
    "    \n",
    "    otype = F.otype.v(n)\n",
    "    \n",
    "    if otype == 'book':\n",
    "        cur_book = F.book.v(n)\n",
    "        if book_check == None:\n",
    "            book_check = F.book.v(n)\n",
    "        \n",
    "    if otype == 'chapter':\n",
    "        cur_chapter = F.chapter.v(n)\n",
    "        if chapter_check == None:\n",
    "            chapter_check = F.chapter.v(n)\n",
    "    \n",
    "    if otype == 'clause_atom':\n",
    "        if code_filter(n) == True:\n",
    "            \n",
    "            if get_ref('chapter',n) == chapter_check and get_ref('book',n) == book_check and chron(n) != True:\n",
    "                raw_clauses.append(F.typ.v(n))\n",
    "            \n",
    "            #initiates data drop\n",
    "            elif get_ref('chapter',n) != chapter_check or get_ref('book',n) != book_check or chron(n) == True or amos(n) == True:\n",
    "                \n",
    "                #checks to see if this is end of HB\n",
    "                if chron(n) == True:\n",
    "                    raw_clauses.append(F.typ.v(n))\n",
    "        \n",
    "                #assembles frequency data for the chapter\n",
    "                for clause in raw_clauses:\n",
    "                    for key in simplified:\n",
    "                        if clause in simplified[key]:\n",
    "                            if 'total' in stats:\n",
    "                                stats['total'] += 1\n",
    "                            else:\n",
    "                                stats['total'] = 1\n",
    "                            if key in stats:\n",
    "                                stats[key] += 1\n",
    "                            else:\n",
    "                                stats[key] = 1\n",
    "        \n",
    "                #drops data into results\n",
    "                for key in stats:\n",
    "                    if '{}:{}'.format(book_check,chapter_check) in results:\n",
    "                        results['{}:{}'.format(book_check,chapter_check)].append([key,stats[key]])\n",
    "                    else:\n",
    "                        results['{}:{}'.format(book_check,chapter_check)] = [[key,stats[key]]]\n",
    "                \n",
    "                #resets variables for next chapter\n",
    "                book_check = cur_book\n",
    "                chapter_check = cur_chapter\n",
    "                raw_clauses = []\n",
    "                stats = {'total':0}\n",
    "                \n",
    "                #logs data for current chapter\n",
    "                raw_clauses.append(F.typ.v(n))\n",
    "                \n",
    "msg(str(len(results))+' chapters logged')"
   ]
  },
  {
   "cell_type": "code",
   "execution_count": 414,
   "metadata": {
    "collapsed": false
   },
   "outputs": [
    {
     "data": {
      "text/plain": [
       "[['total', '100.0%', 55],\n",
       " ['impv', '1.8181818181818181%', 1],\n",
       " ['qtl', '52.72727272727272%', 29],\n",
       " ['nmcl', '5.454545454545454%', 3],\n",
       " ['ptc', '5.454545454545454%', 3],\n",
       " ['yqtl', '34.54545454545455%', 19]]"
      ]
     },
     "execution_count": 414,
     "metadata": {},
     "output_type": "execute_result"
    }
   ],
   "source": [
    "results['Obadia:1']"
   ]
  },
  {
   "cell_type": "code",
   "execution_count": 404,
   "metadata": {
    "collapsed": false
   },
   "outputs": [],
   "source": [
    "for chapter in results:\n",
    "    for typ in results[chapter]:\n",
    "        if typ[0] == 'total':\n",
    "            total = typ[1]\n",
    "    for typ in results[chapter]:\n",
    "        typ.append(typ[1])\n",
    "        typ[1] = get_percent(total,typ[1])"
   ]
  },
  {
   "cell_type": "code",
   "execution_count": 405,
   "metadata": {
    "collapsed": false
   },
   "outputs": [],
   "source": [
    "def check_stats(typ,percent):\n",
    "    rng = 5.00\n",
    "    qtl_norm = 25.61\n",
    "    yqtl_norm = 17.38\n",
    "    nmcl_norm = 36.59\n",
    "    impv_norm = 10.06\n",
    "    \n",
    "    if typ == \"nmcl\":\n",
    "        if nmcl_norm-rng <= float(percent.split('%')[0])<= nmcl_norm+rng:\n",
    "            return True\n",
    "        \n",
    "    elif typ == 'yqtl':\n",
    "        if yqtl_norm-rng <= float(percent.split('%')[0]) <= yqtl_norm+rng:\n",
    "            return True\n",
    "            \n",
    "    elif typ == 'way':\n",
    "        if 0.00 <= float(percent.split('%')[0]) <= 1.00:\n",
    "            return True\n",
    "        \n",
    "    elif typ == 'qtl':\n",
    "        if qtl_norm-rng <= float(percent.split('%')[0]) <= qtl_norm+rng:\n",
    "            return True\n",
    "        \n",
    "    elif typ == 'impv':\n",
    "        if impv_norm-rng <= float(percent.split('%')[0]) <= impv_norm+rng:\n",
    "            return True"
   ]
  },
  {
   "cell_type": "code",
   "execution_count": 406,
   "metadata": {
    "collapsed": false
   },
   "outputs": [
    {
     "name": "stderr",
     "output_type": "stream",
     "text": [
      "28m 03s 1 found\n"
     ]
    }
   ],
   "source": [
    "song_matches = []\n",
    "\n",
    "for chapter in results:\n",
    "    count = 0\n",
    "    for typ in results[chapter]:\n",
    "        if check_stats(typ[0],typ[1]) == True:\n",
    "            count += 1\n",
    "    if count >= 4:\n",
    "        song_matches.append(chapter)\n",
    "msg(str(len(song_matches))+' found')"
   ]
  },
  {
   "cell_type": "code",
   "execution_count": 407,
   "metadata": {
    "collapsed": false
   },
   "outputs": [
    {
     "data": {
      "text/plain": [
       "['Psalmi:76']"
      ]
     },
     "execution_count": 407,
     "metadata": {},
     "output_type": "execute_result"
    }
   ],
   "source": [
    "song_matches"
   ]
  },
  {
   "cell_type": "code",
   "execution_count": 408,
   "metadata": {
    "collapsed": false
   },
   "outputs": [
    {
     "name": "stdout",
     "output_type": "stream",
     "text": [
      "nmcl  33.33333333333333%  8\n",
      "total  100.0%  24\n",
      "impv  8.333333333333332%  2\n",
      "way  4.166666666666666%  1\n",
      "qtl  29.166666666666668%  7\n",
      "ptc  8.333333333333332%  2\n",
      "yqtl  16.666666666666664%  4\n"
     ]
    }
   ],
   "source": [
    "for item in results['Psalmi:76']:\n",
    "    print ('{}  {}  {}'.format(item[0],item[1],item[2]))"
   ]
  },
  {
   "cell_type": "code",
   "execution_count": 409,
   "metadata": {
    "collapsed": false
   },
   "outputs": [
    {
     "name": "stdout",
     "output_type": "stream",
     "text": [
      "total  100.0%  43\n",
      "impv  9.30232558139535%  4\n",
      "qtl  18.6046511627907%  8\n",
      "nmcl  23.25581395348837%  10\n",
      "ptc  9.30232558139535%  4\n",
      "yqtl  39.53488372093023%  17\n"
     ]
    }
   ],
   "source": [
    "for item in results['Canticum:8']:\n",
    "    print ('{}  {}  {}'.format(item[0],item[1],item[2]))"
   ]
  },
  {
   "cell_type": "markdown",
   "metadata": {},
   "source": [
    "# Standard Deviation (for the Song) "
   ]
  },
  {
   "cell_type": "code",
   "execution_count": 426,
   "metadata": {
    "collapsed": true
   },
   "outputs": [],
   "source": [
    "import math"
   ]
  },
  {
   "cell_type": "code",
   "execution_count": 411,
   "metadata": {
    "collapsed": false
   },
   "outputs": [
    {
     "name": "stdout",
     "output_type": "stream",
     "text": [
      "nmcl\n",
      "11.535884070058888\n",
      "\n",
      "\n",
      "qtl\n",
      "7.293212075843452\n",
      "\n",
      "\n",
      "yqtl\n",
      "10.709320926965457\n",
      "\n",
      "\n",
      "way\n",
      "1.4583333333333335\n",
      "\n",
      "\n",
      "ptc\n",
      "5.026292670581553\n",
      "\n",
      "\n",
      "impv\n",
      "3.641225342773203\n",
      "\n",
      "\n"
     ]
    }
   ],
   "source": [
    "#CORRECT CODE ON THIS! STANDARD DEVIATION CALCULATION IS INCORRECT!\n",
    "\n",
    "clauses = ['nmcl','qtl','yqtl','way','ptc','impv']\n",
    "\n",
    "nmcl = collections.OrderedDict()\n",
    "qtl = collections.OrderedDict()\n",
    "yqtl = collections.OrderedDict()\n",
    "ptc = collections.OrderedDict()\n",
    "impv = collections.OrderedDict()\n",
    "way = collections.OrderedDict()\n",
    "total = collections.OrderedDict()\n",
    "\n",
    "\n",
    "\n",
    "for cls in clauses:\n",
    "    ct = 1\n",
    "    while ct < 9:\n",
    "        for clause in results['Canticum:{}'.format(ct)]:\n",
    "            if clause[0] == cls:\n",
    "                eval(cls)['{}'.format(ct)] = clause[2]\n",
    "            if clause[0] == 'total':\n",
    "                total['{}'.format(ct)] = clause[2]\n",
    "            if '{}'.format(ct) not in eval(cls):\n",
    "                 eval(cls)['{}'.format(ct)] = 0\n",
    "             \n",
    "        ct+=1\n",
    "\n",
    "ct = 1\n",
    "\n",
    "while ct < 9:\n",
    "    for clause in clauses:\n",
    "        eval(clause)['{}'.format(ct)] = get_percent(total['{}'.format(ct)], eval(clause)['{}'.format(ct)])\n",
    "    ct += 1\n",
    "ct=1\n",
    "\n",
    "for clause in clauses:\n",
    "    \n",
    "    total = 0.0\n",
    "    \n",
    "    for key in eval(clause):\n",
    "        total += float(eval(clause)[key].split('%')[0])\n",
    "    \n",
    "    mean = total/8.00\n",
    "    \n",
    "    variance = 0.0\n",
    "    \n",
    "    for key in eval(clause):\n",
    "        variance += math.sqrt((mean - float(eval(clause)[key].split('%')[0]))**2)\n",
    "    \n",
    "    print (clause)\n",
    "    print (variance/8.0)\n",
    "    print ('\\n')"
   ]
  },
  {
   "cell_type": "markdown",
   "metadata": {},
   "source": [
    "# Standard Deviation (for other texts)"
   ]
  },
  {
   "cell_type": "code",
   "execution_count": 522,
   "metadata": {
    "collapsed": false
   },
   "outputs": [
    {
     "name": "stderr",
     "output_type": "stream",
     "text": [
      " 1h 59m 04s 39 books logged\n"
     ]
    }
   ],
   "source": [
    "#indexes all books with their chapter lengths for the standard deviation loop\n",
    "books = collections.OrderedDict()\n",
    "cur_book = None\n",
    "chapter_ct = 0\n",
    "\n",
    "for n in NN():\n",
    "    otype = F.otype.v(n)\n",
    "    \n",
    "    if otype == \"chapter\":\n",
    "        \n",
    "        if cur_book != None:\n",
    "            if F.book.v(L.u('book',n)) == cur_book:\n",
    "                chapter_ct += 1\n",
    "            else:\n",
    "                books[cur_book] = chapter_ct\n",
    "                chapter_ct = 1\n",
    "                cur_book = F.book.v(L.u('book',n))\n",
    "        else:\n",
    "            cur_book = F.book.v(L.u('book',n))\n",
    "            chapter_ct += 1\n",
    "\n",
    "books['Chronica_II'] = 36\n",
    "\n",
    "msg(str(len(books))+' books logged')\n"
   ]
  },
  {
   "cell_type": "code",
   "execution_count": 526,
   "metadata": {
    "collapsed": false,
    "scrolled": true
   },
   "outputs": [
    {
     "name": "stderr",
     "output_type": "stream",
     "text": [
      " 1h 59m 24s 39 stats logged\n"
     ]
    }
   ],
   "source": [
    "deviations = collections.OrderedDict()\n",
    "\n",
    "for book in books:\n",
    "\n",
    "    clauses = ['nmcl','qtl','yqtl','way','ptc','impv']\n",
    "\n",
    "    nmcl = collections.OrderedDict()\n",
    "    qtl = collections.OrderedDict()\n",
    "    yqtl = collections.OrderedDict()\n",
    "    ptc = collections.OrderedDict()\n",
    "    impv = collections.OrderedDict()\n",
    "    way = collections.OrderedDict()\n",
    "    total = collections.OrderedDict()\n",
    "\n",
    "    chapter_length = books[book]\n",
    "    book_name = book\n",
    "\n",
    "    for cls in clauses:\n",
    "        ct = 1\n",
    "        while ct <= (chapter_length):\n",
    "            for clause in results['{}:{}'.format(book_name,ct)]:\n",
    "                if clause[0] == cls:\n",
    "                    eval(cls)['{}'.format(ct)] = clause[2]\n",
    "                if clause[0] == 'total':\n",
    "                    total['{}'.format(ct)] = clause[2]\n",
    "                if '{}'.format(ct) not in eval(cls):\n",
    "                    eval(cls)['{}'.format(ct)] = 0\n",
    "             \n",
    "            ct+=1\n",
    "\n",
    "    ct = 1\n",
    "\n",
    "    while ct <= (chapter_length):\n",
    "        for clause in clauses:\n",
    "            eval(clause)['{}'.format(ct)] = get_percent(total['{}'.format(ct)], eval(clause)['{}'.format(ct)])\n",
    "        ct += 1\n",
    "\n",
    "    for clause in clauses:\n",
    "    \n",
    "        total = 0.0\n",
    "    \n",
    "        for key in eval(clause):\n",
    "            total += float(eval(clause)[key].split('%')[0])\n",
    "    \n",
    "        mean = total/float(chapter_length)\n",
    "        pre_variance = 0.0\n",
    "    \n",
    "        for key in eval(clause):\n",
    "            pre_variance += (float(eval(clause)[key].split('%')[0])-mean)**2\n",
    "    \n",
    "        standard_dev = math.sqrt(pre_variance/float(chapter_length))\n",
    "\n",
    "\n",
    "        if mean != 0:\n",
    "            coeff_var = (standard_dev/mean)*100\n",
    "        else:\n",
    "            coeff_var = \"NA\"\n",
    "\n",
    "        if book in deviations:\n",
    "            deviations[book].append([clause,coeff_var])\n",
    "            \n",
    "        else:\n",
    "            deviations[book] = [[clause,coeff_var]]\n",
    "            \n",
    "\n",
    "msg(str(len(deviations))+' stats logged')"
   ]
  },
  {
   "cell_type": "code",
   "execution_count": 527,
   "metadata": {
    "collapsed": false
   },
   "outputs": [
    {
     "data": {
      "text/plain": [
       "OrderedDict([('Genesis',\n",
       "              [['nmcl', 78.25431824945255],\n",
       "               ['qtl', 44.71912940868204],\n",
       "               ['yqtl', 56.05470996624275],\n",
       "               ['way', 30.7436059303795],\n",
       "               ['ptc', 85.00270865386365],\n",
       "               ['impv', 76.5010351472902]]),\n",
       "             ('Exodus',\n",
       "              [['nmcl', 94.23789909775006],\n",
       "               ['qtl', 46.39585608019654],\n",
       "               ['yqtl', 72.27342152634819],\n",
       "               ['way', 68.90367859033805],\n",
       "               ['ptc', 69.30123797918513],\n",
       "               ['impv', 86.98807872336957]]),\n",
       "             ('Leviticus',\n",
       "              [['nmcl', 66.63193304200597],\n",
       "               ['qtl', 56.86832553251473],\n",
       "               ['yqtl', 52.141092516034796],\n",
       "               ['way', 210.2442928855551],\n",
       "               ['ptc', 153.29073581869415],\n",
       "               ['impv', 109.8679928130258]]),\n",
       "             ('Numeri',\n",
       "              [['nmcl', 101.41102366806724],\n",
       "               ['qtl', 63.059960348958874],\n",
       "               ['yqtl', 61.93476881822452],\n",
       "               ['way', 83.50202671971086],\n",
       "               ['ptc', 88.23693427541866],\n",
       "               ['impv', 89.46994748603504]]),\n",
       "             ('Deuteronomium',\n",
       "              [['nmcl', 76.61707516682675],\n",
       "               ['qtl', 35.73767398064773],\n",
       "               ['yqtl', 54.615035683938],\n",
       "               ['way', 116.6697054088705],\n",
       "               ['ptc', 124.58178737932674],\n",
       "               ['impv', 112.9619722754344]]),\n",
       "             ('Josua',\n",
       "              [['nmcl', 105.45899566509964],\n",
       "               ['qtl', 50.05723986876437],\n",
       "               ['yqtl', 94.79001354109994],\n",
       "               ['way', 50.25275735607657],\n",
       "               ['ptc', 95.32734749122211],\n",
       "               ['impv', 95.99629481395753]]),\n",
       "             ('Judices',\n",
       "              [['nmcl', 46.33508799638249],\n",
       "               ['qtl', 41.799958427364345],\n",
       "               ['yqtl', 53.45994991689499],\n",
       "               ['way', 25.543552554096156],\n",
       "               ['ptc', 55.31922564806801],\n",
       "               ['impv', 66.10389955061919]]),\n",
       "             ('Samuel_I',\n",
       "              [['nmcl', 51.82332436547705],\n",
       "               ['qtl', 40.37108833831065],\n",
       "               ['yqtl', 45.203816041175585],\n",
       "               ['way', 28.972287336912046],\n",
       "               ['ptc', 63.44348075501195],\n",
       "               ['impv', 59.415680915950354]]),\n",
       "             ('Samuel_II',\n",
       "              [['nmcl', 57.450466742129244],\n",
       "               ['qtl', 38.559356980576645],\n",
       "               ['yqtl', 72.38379179517904],\n",
       "               ['way', 30.942004670296964],\n",
       "               ['ptc', 64.60819070129556],\n",
       "               ['impv', 78.09687816352027]]),\n",
       "             ('Reges_I',\n",
       "              [['nmcl', 115.60622669396162],\n",
       "               ['qtl', 46.177271653735055],\n",
       "               ['yqtl', 47.562592116328545],\n",
       "               ['way', 30.98365195136285],\n",
       "               ['ptc', 51.04507460095713],\n",
       "               ['impv', 92.31865007947412]]),\n",
       "             ('Reges_II',\n",
       "              [['nmcl', 50.0281274464546],\n",
       "               ['qtl', 38.21524878196981],\n",
       "               ['yqtl', 59.72719190367163],\n",
       "               ['way', 16.57416418995134],\n",
       "               ['ptc', 63.367313791090886],\n",
       "               ['impv', 66.99782152732826]]),\n",
       "             ('Jesaia',\n",
       "              [['nmcl', 40.32043726317474],\n",
       "               ['qtl', 31.011604892623883],\n",
       "               ['yqtl', 37.8764509531135],\n",
       "               ['way', 141.41209181588232],\n",
       "               ['ptc', 68.4598060737138],\n",
       "               ['impv', 95.95324965124186]]),\n",
       "             ('Jeremia',\n",
       "              [['nmcl', 70.20435861040617],\n",
       "               ['qtl', 25.23267616646052],\n",
       "               ['yqtl', 37.98258584183976],\n",
       "               ['way', 109.28949128834888],\n",
       "               ['ptc', 54.40017597620902],\n",
       "               ['impv', 75.13073990117552]]),\n",
       "             ('Ezechiel',\n",
       "              [['nmcl', 88.5029632844466],\n",
       "               ['qtl', 43.973675770412676],\n",
       "               ['yqtl', 57.96387668457255],\n",
       "               ['way', 95.59835049606036],\n",
       "               ['ptc', 84.87517907348203],\n",
       "               ['impv', 93.17486113678538]]),\n",
       "             ('Hosea',\n",
       "              [['nmcl', 57.19328241517104],\n",
       "               ['qtl', 46.42341198371756],\n",
       "               ['yqtl', 35.033083327949576],\n",
       "               ['way', 135.56539416064092],\n",
       "               ['ptc', 63.096063368826485],\n",
       "               ['impv', 95.62727174175959]]),\n",
       "             ('Joel',\n",
       "              [['nmcl', 59.21616765664952],\n",
       "               ['qtl', 28.86952110605262],\n",
       "               ['yqtl', 65.81030442685656],\n",
       "               ['way', 106.57039355217606],\n",
       "               ['ptc', 100.01262387179175],\n",
       "               ['impv', 68.26854222883128]]),\n",
       "             ('Amos',\n",
       "              [['nmcl', 67.28661086988227],\n",
       "               ['qtl', 35.57452448629792],\n",
       "               ['yqtl', 38.88219980638711],\n",
       "               ['way', 88.91008733354369],\n",
       "               ['ptc', 74.81894344595166],\n",
       "               ['impv', 78.72152480362817]]),\n",
       "             ('Obadia',\n",
       "              [['nmcl', 0.0],\n",
       "               ['qtl', 0.0],\n",
       "               ['yqtl', 0.0],\n",
       "               ['way', 'NA'],\n",
       "               ['ptc', 0.0],\n",
       "               ['impv', 0.0]]),\n",
       "             ('Jona',\n",
       "              [['nmcl', 23.97563250092663],\n",
       "               ['qtl', 55.71660577398988],\n",
       "               ['yqtl', 42.74493020967784],\n",
       "               ['way', 20.77790641571592],\n",
       "               ['ptc', 34.140906391595685],\n",
       "               ['impv', 85.55690260034207]]),\n",
       "             ('Micha',\n",
       "              [['nmcl', 58.63387866659504],\n",
       "               ['qtl', 51.914008308556916],\n",
       "               ['yqtl', 18.943897231812084],\n",
       "               ['way', 136.6348729608951],\n",
       "               ['ptc', 43.652208122245604],\n",
       "               ['impv', 75.53835870611711]]),\n",
       "             ('Nahum',\n",
       "              [['nmcl', 12.428899674806251],\n",
       "               ['qtl', 12.798463684672454],\n",
       "               ['yqtl', 21.493090006083495],\n",
       "               ['way', 44.76802029017085],\n",
       "               ['ptc', 49.91761471922019],\n",
       "               ['impv', 71.32897808443882]]),\n",
       "             ('Habakuk',\n",
       "              [['nmcl', 5.121585008535391],\n",
       "               ['qtl', 58.347836662163665],\n",
       "               ['yqtl', 18.421269404951644],\n",
       "               ['way', 22.80769190103606],\n",
       "               ['ptc', 122.89415222704957],\n",
       "               ['impv', 61.120593435499735]]),\n",
       "             ('Zephania',\n",
       "              [['nmcl', 23.435990277045992],\n",
       "               ['qtl', 28.406646407162],\n",
       "               ['yqtl', 28.05852223709058],\n",
       "               ['way', 141.42135623730948],\n",
       "               ['ptc', 60.2545765894824],\n",
       "               ['impv', 25.15290206288669]]),\n",
       "             ('Haggai',\n",
       "              [['nmcl', 21.136767317939608],\n",
       "               ['qtl', 1.5162454873646198],\n",
       "               ['yqtl', 45.733041575492344],\n",
       "               ['way', 25.252525252525253],\n",
       "               ['ptc', 40.95238095238095],\n",
       "               ['impv', 19.741100323624597]]),\n",
       "             ('Sacharia',\n",
       "              [['nmcl', 67.17558022245824],\n",
       "               ['qtl', 43.71631415844682],\n",
       "               ['yqtl', 58.391817074784505],\n",
       "               ['way', 86.22740987818756],\n",
       "               ['ptc', 61.553551076971715],\n",
       "               ['impv', 79.45020327618397]]),\n",
       "             ('Maleachi',\n",
       "              [['nmcl', 26.170743699334075],\n",
       "               ['qtl', 19.35490971764646],\n",
       "               ['yqtl', 43.99492829969766],\n",
       "               ['way', 21.060663737874556],\n",
       "               ['ptc', 25.399519412855128],\n",
       "               ['impv', 76.5767588763066]]),\n",
       "             ('Psalmi',\n",
       "              [['nmcl', 68.81089903435416],\n",
       "               ['qtl', 61.804624803619745],\n",
       "               ['yqtl', 50.21610711518845],\n",
       "               ['way', 204.35899862363237],\n",
       "               ['ptc', 124.57696338907273],\n",
       "               ['impv', 99.24181472216972]]),\n",
       "             ('Iob',\n",
       "              [['nmcl', 47.21343183821417],\n",
       "               ['qtl', 43.60321766233115],\n",
       "               ['yqtl', 30.742452018919625],\n",
       "               ['way', 116.15960074609843],\n",
       "               ['ptc', 110.64830041567484],\n",
       "               ['impv', 115.34312164216178]]),\n",
       "             ('Proverbia',\n",
       "              [['nmcl', 43.33570830058376],\n",
       "               ['qtl', 76.19577094184123],\n",
       "               ['yqtl', 32.701590115525],\n",
       "               ['way', 165.47861423218419],\n",
       "               ['ptc', 71.9924128099932],\n",
       "               ['impv', 115.87123760252742]]),\n",
       "             ('Ruth',\n",
       "              [['nmcl', 16.59637225303753],\n",
       "               ['qtl', 19.27068967305471],\n",
       "               ['yqtl', 19.350342402601143],\n",
       "               ['way', 11.501642802462454],\n",
       "               ['ptc', 81.40527100097262],\n",
       "               ['impv', 51.74521052477146]]),\n",
       "             ('Canticum',\n",
       "              [['nmcl', 37.64014210905402],\n",
       "               ['qtl', 33.39220309864383],\n",
       "               ['yqtl', 69.42299302119959],\n",
       "               ['way', 264.575131106459],\n",
       "               ['ptc', 66.87399220713195],\n",
       "               ['impv', 57.568279693293924]]),\n",
       "             ('Ecclesiastes',\n",
       "              [['nmcl', 37.98291075729123],\n",
       "               ['qtl', 61.88894722291223],\n",
       "               ['yqtl', 57.98653406154969],\n",
       "               ['way', 251.75311245271553],\n",
       "               ['ptc', 57.95543601062769],\n",
       "               ['impv', 155.3488336320772]]),\n",
       "             ('Threni',\n",
       "              [['nmcl', 24.589541593260318],\n",
       "               ['qtl', 11.125787828627697],\n",
       "               ['yqtl', 44.54820430228654],\n",
       "               ['way', 63.83318859762159],\n",
       "               ['ptc', 101.61815981059974],\n",
       "               ['impv', 35.41816415065436]]),\n",
       "             ('Esther',\n",
       "              [['nmcl', 40.00642243860315],\n",
       "               ['qtl', 65.95043478923476],\n",
       "               ['yqtl', 48.22622883524278],\n",
       "               ['way', 44.54092334261202],\n",
       "               ['ptc', 132.8213592408693],\n",
       "               ['impv', 106.72724641231707]]),\n",
       "             ('Daniel',\n",
       "              [['nmcl', 34.88257120177037],\n",
       "               ['qtl', 39.218626454753114],\n",
       "               ['yqtl', 64.50607900996206],\n",
       "               ['way', 126.17953949756138],\n",
       "               ['ptc', 55.88247209356476],\n",
       "               ['impv', 86.07340396140613]]),\n",
       "             ('Esra',\n",
       "              [['nmcl', 69.98017868991867],\n",
       "               ['qtl', 56.004436367563756],\n",
       "               ['yqtl', 77.39930664045474],\n",
       "               ['way', 75.85126649332494],\n",
       "               ['ptc', 89.91998588934095],\n",
       "               ['impv', 126.33258987112899]]),\n",
       "             ('Nehemia',\n",
       "              [['nmcl', 96.57012534783806],\n",
       "               ['qtl', 69.22374876524891],\n",
       "               ['yqtl', 63.62790757205858],\n",
       "               ['way', 52.89804361006074],\n",
       "               ['ptc', 55.51477974162496],\n",
       "               ['impv', 102.42162082130082]]),\n",
       "             ('Chronica_I',\n",
       "              [['nmcl', 68.87805165607423],\n",
       "               ['qtl', 64.67855892941141],\n",
       "               ['yqtl', 146.86517970833134],\n",
       "               ['way', 80.71039931528877],\n",
       "               ['ptc', 97.79112019046721],\n",
       "               ['impv', 213.43152649400184]]),\n",
       "             ('Chronica_II',\n",
       "              [['nmcl', 64.86532799655967],\n",
       "               ['qtl', 48.97274243403689],\n",
       "               ['yqtl', 83.25210648547211],\n",
       "               ['way', 26.06724588497778],\n",
       "               ['ptc', 71.19200769521356],\n",
       "               ['impv', 116.29999766936427]])])"
      ]
     },
     "execution_count": 527,
     "metadata": {},
     "output_type": "execute_result"
    }
   ],
   "source": [
    "deviations"
   ]
  },
  {
   "cell_type": "markdown",
   "metadata": {},
   "source": [
    "# Chapters without Wayyiqtol"
   ]
  },
  {
   "cell_type": "code",
   "execution_count": 74,
   "metadata": {
    "collapsed": false
   },
   "outputs": [
    {
     "name": "stderr",
     "output_type": "stream",
     "text": [
      "26m 51s 221 found\n"
     ]
    }
   ],
   "source": [
    "song_matches = []\n",
    "\n",
    "for chapter in results:\n",
    "    way_count = 0\n",
    "    for typ in results[chapter]:\n",
    "        if typ[0] == 'way':\n",
    "            way_count +=1 \n",
    "            if 0.00 <= float(typ[1].split('%')[0]) <= 1.00:\n",
    "                song_matches.append(chapter)\n",
    "                \n",
    "    if way_count == 0:\n",
    "        song_matches.append(chapter)\n",
    "\n",
    "\n",
    "msg(str(len(song_matches))+' found')"
   ]
  },
  {
   "cell_type": "code",
   "execution_count": 75,
   "metadata": {
    "collapsed": false
   },
   "outputs": [
    {
     "name": "stderr",
     "output_type": "stream",
     "text": [
      "26m 53s 10 found\n"
     ]
    }
   ],
   "source": [
    "song_matches2 = []\n",
    "\n",
    "for chapter in song_matches:\n",
    "    count = 0\n",
    "    for typ in results[chapter]:\n",
    "        if check_stats(typ[0],typ[1]) == True:\n",
    "            count += 1\n",
    "    if count >= 2:\n",
    "        song_matches2.append(chapter)\n",
    "        \n",
    "msg(str(len(song_matches2))+' found')"
   ]
  },
  {
   "cell_type": "code",
   "execution_count": 76,
   "metadata": {
    "collapsed": false
   },
   "outputs": [
    {
     "data": {
      "text/plain": [
       "['Exodus:25',\n",
       " 'Exodus:27',\n",
       " 'Leviticus:14',\n",
       " 'Jeremia:48',\n",
       " 'Psalmi:14',\n",
       " 'Psalmi:19',\n",
       " 'Psalmi:53',\n",
       " 'Psalmi:111',\n",
       " 'Psalmi:128',\n",
       " 'Canticum:4']"
      ]
     },
     "execution_count": 76,
     "metadata": {},
     "output_type": "execute_result"
    }
   ],
   "source": [
    "song_matches2"
   ]
  },
  {
   "cell_type": "code",
   "execution_count": 77,
   "metadata": {
    "collapsed": false
   },
   "outputs": [
    {
     "data": {
      "text/plain": [
       "[['qtl', '25.0%', 12],\n",
       " ['ptc', '2.08%', 1],\n",
       " ['nmcl', '58.33%', 28],\n",
       " ['yqtl', '14.58%', 7],\n",
       " ['total', '100.0%', 48]]"
      ]
     },
     "execution_count": 77,
     "metadata": {},
     "output_type": "execute_result"
    }
   ],
   "source": [
    "results['Exodus:27']"
   ]
  },
  {
   "cell_type": "code",
   "execution_count": null,
   "metadata": {
    "collapsed": true
   },
   "outputs": [],
   "source": []
  }
 ],
 "metadata": {
  "kernelspec": {
   "display_name": "Python 3",
   "language": "python",
   "name": "python3"
  },
  "language_info": {
   "codemirror_mode": {
    "name": "ipython",
    "version": 3
   },
   "file_extension": ".py",
   "mimetype": "text/x-python",
   "name": "python",
   "nbconvert_exporter": "python",
   "pygments_lexer": "ipython3",
   "version": "3.5.1"
  }
 },
 "nbformat": 4,
 "nbformat_minor": 0
}
