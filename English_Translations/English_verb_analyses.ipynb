{
 "cells": [
  {
   "cell_type": "markdown",
   "metadata": {},
   "source": [
    "<p style=\"text-align:center;font-size:30px;font-weight:bold\">Clause Syntax in the Song of Songs:<br><br> A Preliminary Study</p>\n",
    "<br>\n",
    "<br>\n",
    "# Song of Songs Verb Translation Analysis\n",
    "<strong>Purpose of this notebook:</strong>\n",
    "<br>\n",
    "<br>\n",
    "CSV files containing the verb information are manually created using the txt files produced with Eng_trans_processing.ipynb. This notebook is the final process in the procedure. By analyzing the CSV files, it produces statistics on the types of verbs found in Song translations. \n",
    "<br>\n",
    "<br>\n",
    "This notebook provides example statistics for the NAS translation. The other translations are analyzed in the same way."
   ]
  },
  {
   "cell_type": "code",
   "execution_count": 14,
   "metadata": {
    "collapsed": false
   },
   "outputs": [
    {
     "name": "stderr",
     "output_type": "stream",
     "text": [
      "  0.00s This is LAF-Fabric 4.5.21\n",
      "API reference: http://laf-fabric.readthedocs.org/en/latest/texts/API-reference.html\n",
      "Feature doc: https://shebanq.ancient-data.org/static/docs/featuredoc/texts/welcome.html\n",
      "\n"
     ]
    }
   ],
   "source": [
    "import csv\n",
    "from laf.fabric import LafFabric\n",
    "from etcbc.preprocess import prepare\n",
    "from etcbc.lib import Transcription\n",
    "fabric = LafFabric(verbose='NORMAL')"
   ]
  },
  {
   "cell_type": "code",
   "execution_count": 15,
   "metadata": {
    "collapsed": false
   },
   "outputs": [
    {
     "name": "stderr",
     "output_type": "stream",
     "text": [
      "  0.00s LOADING API: please wait ... \n",
      "  0.06s USING main  DATA COMPILED AT: 2015-11-02T15-08-56\n",
      "  0.08s USING annox DATA COMPILED AT: 2016-01-27T19-01-17\n",
      "  5.70s LOGFILE=/Users/Cody/laf-fabric-output/etcbc4b/translation_analysis/__log__translation_analysis.txt\n",
      "  5.71s INFO: LOADING PREPARED data: please wait ... \n",
      "  5.71s prep prep: G.node_sort\n",
      "  5.88s prep prep: G.node_sort_inv\n",
      "  6.82s prep prep: L.node_up\n",
      "    11s prep prep: L.node_down\n",
      " 4m 09s END\n",
      "    27s prep prep: V.verses\n",
      "    27s prep prep: V.books_la\n",
      "    27s ETCBC reference: http://laf-fabric.readthedocs.org/en/latest/texts/ETCBC-reference.html\n",
      "    29s INFO: LOADED PREPARED data\n",
      "    29s INFO: DATA LOADED FROM SOURCE etcbc4b AND ANNOX lexicon FOR TASK translation_analysis AT 2016-05-11T17-11-01\n"
     ]
    }
   ],
   "source": [
    "API = fabric.load('etcbc4b', 'lexicon', 'translation_analysis',\n",
    "{\n",
    "    \"xmlids\" : {\"node\": False, \"edge\" : False},\n",
    "    \"features\" : (\"otype monads g_word_utf8 typ sp label chapter verse book\",\"\"),\n",
    "    \"prepare\" : prepare\n",
    "}\n",
    "           )\n",
    "exec(fabric.localnames.format(var='fabric'))"
   ]
  },
  {
   "cell_type": "markdown",
   "metadata": {},
   "source": [
    "# Error Check\n",
    "<br>\n",
    "<br>\n",
    "Checks for any errors in the file."
   ]
  },
  {
   "cell_type": "code",
   "execution_count": 16,
   "metadata": {
    "collapsed": false
   },
   "outputs": [
    {
     "data": {
      "text/plain": [
       "[]"
      ]
     },
     "execution_count": 16,
     "metadata": {},
     "output_type": "execute_result"
    }
   ],
   "source": [
    "filename = 'NAS_Verb_Data.csv'\n",
    "\n",
    "HB_tenses = ['qtl','yqtl','nmcl','impv','way','ajcl','ptc']\n",
    "ENG_tenses = ['psp','ptp','mod','prs','pst','ppf','fut','ipv','inf','nvb','prc','psc']\n",
    "\n",
    "errata = []\n",
    "\n",
    "with open(filename,'r') as datafile:\n",
    "    reader = csv.reader(datafile)\n",
    "    \n",
    "    for line in reader:\n",
    "        try:\n",
    "            if line[1] not in HB_tenses:\n",
    "                errata.append([line[0],line[1]])\n",
    "        except:\n",
    "            msg('error on: ' + line[0])\n",
    "            \n",
    "        try:\n",
    "            if line[2] not in ENG_tenses:\n",
    "                errata.append([line[0],line[2]])\n",
    "        except:\n",
    "            msg('error on: ' + line[0])\n",
    "                           \n",
    "errata"
   ]
  },
  {
   "cell_type": "markdown",
   "metadata": {},
   "source": [
    "# Analysis 1"
   ]
  },
  {
   "cell_type": "code",
   "execution_count": 17,
   "metadata": {
    "collapsed": false
   },
   "outputs": [],
   "source": [
    "qtl_inventory = {}\n",
    "yqtl_inventory = {}\n",
    "nmcl_inventory = {}\n",
    "way_inventory = {}\n",
    "impv_inventory = {}\n",
    "ptc_inventory = {}\n",
    "\n",
    "\n",
    "with open(filename,'r') as datafile:\n",
    "    reader = csv.reader(datafile)\n",
    "    \n",
    "    for line in reader:\n",
    "        \n",
    "        line[1] = 'nmcl' if line[1] == 'ajcl' else line[1]\n",
    "        \n",
    "        if '{} > {}'.format(line[1],line[2]) not in eval('{}_inventory'.format(line[1])):\n",
    "            \n",
    "            eval('{}_inventory'.format(line[1]))['{} > {}'.format(line[1],line[2])] = 1\n",
    "            \n",
    "        elif '{} > {}'.format(line[1],line[2]) in eval('{}_inventory'.format(line[1])):\n",
    "            \n",
    "            eval('{}_inventory'.format(line[1]))['{} > {}'.format(line[1],line[2])] += 1"
   ]
  },
  {
   "cell_type": "code",
   "execution_count": 18,
   "metadata": {
    "collapsed": false
   },
   "outputs": [
    {
     "name": "stdout",
     "output_type": "stream",
     "text": [
      "\n",
      " STATISTICS FOR: NAS\n",
      "\n",
      "--------------------------------------------------\n",
      "qtl > prs         25          23.36%\n",
      "qtl > ppf         41          38.32%\n",
      "qtl > pst         41          38.32%\n",
      "\n",
      "\n",
      "yqtl > mod        48          70.59%\n",
      "yqtl > psc         1           1.47%\n",
      "yqtl > fut         1           1.47%\n",
      "yqtl > prs        11          16.18%\n",
      "yqtl > ptp         1           1.47%\n",
      "yqtl > pst         5           7.35%\n",
      "yqtl > ipv         1           1.47%\n",
      "\n",
      "\n",
      "nmcl > mod         2            1.9%\n",
      "nmcl > ppf         2            1.9%\n",
      "nmcl > prs        94          89.52%\n",
      "nmcl > ipv         1           0.95%\n",
      "nmcl > pst         6           5.71%\n",
      "\n",
      "\n",
      "ptc > ptp         15          34.09%\n",
      "ptc > psp          4           9.09%\n",
      "ptc > pst          1           2.27%\n",
      "ptc > prs         12          27.27%\n",
      "ptc > prc         11           25.0%\n",
      "ptc > psc          1           2.27%\n",
      "\n",
      "\n",
      "way > pst          2          100.0%\n",
      "\n",
      "\n",
      "impv > ipv        34          100.0%\n",
      "\n",
      "\n"
     ]
    }
   ],
   "source": [
    "dicts = ['qtl','yqtl','nmcl','ptc','way','impv']\n",
    "\n",
    "print ('\\n STATISTICS FOR: {}\\n'.format(filename.split('_')[0]))\n",
    "print ('-'*50)\n",
    "for dicti in dicts:\n",
    "    dictname = eval('{}_inventory'.format(dicti))\n",
    "    dict_total = 0\n",
    "    for key in dictname:\n",
    "        dict_total += dictname[key]\n",
    "    for key in dictname:\n",
    "        print ('{:10}{:10}{:15}%'.format(key,\n",
    "                                        dictname[key],\n",
    "                                        round(float(dictname[key]/dict_total)*100,2)\n",
    "                                       ))\n",
    "    \n",
    "    print('\\n')"
   ]
  },
  {
   "cell_type": "code",
   "execution_count": null,
   "metadata": {
    "collapsed": true
   },
   "outputs": [],
   "source": []
  }
 ],
 "metadata": {
  "kernelspec": {
   "display_name": "Python 3",
   "language": "python",
   "name": "python3"
  },
  "language_info": {
   "codemirror_mode": {
    "name": "ipython",
    "version": 3
   },
   "file_extension": ".py",
   "mimetype": "text/x-python",
   "name": "python",
   "nbconvert_exporter": "python",
   "pygments_lexer": "ipython3",
   "version": "3.5.1"
  }
 },
 "nbformat": 4,
 "nbformat_minor": 0
}
